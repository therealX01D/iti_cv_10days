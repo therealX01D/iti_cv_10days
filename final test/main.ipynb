{
 "cells": [
  {
   "cell_type": "code",
   "execution_count": 53,
   "metadata": {},
   "outputs": [
    {
     "ename": "TypeError",
     "evalue": "'str' object is not callable",
     "output_type": "error",
     "traceback": [
      "\u001b[1;31m---------------------------------------------------------------------------\u001b[0m",
      "\u001b[1;31mTypeError\u001b[0m                                 Traceback (most recent call last)",
      "\u001b[1;32m<ipython-input-53-74378a036cd9>\u001b[0m in \u001b[0;36m<module>\u001b[1;34m\u001b[0m\n\u001b[0;32m     35\u001b[0m         \u001b[0mind\u001b[0m\u001b[1;33m+=\u001b[0m\u001b[1;36m1\u001b[0m\u001b[1;33m\u001b[0m\u001b[1;33m\u001b[0m\u001b[0m\n\u001b[0;32m     36\u001b[0m     \u001b[1;32mreturn\u001b[0m \u001b[0mret\u001b[0m\u001b[1;33m\u001b[0m\u001b[1;33m\u001b[0m\u001b[0m\n\u001b[1;32m---> 37\u001b[1;33m \u001b[0msolve\u001b[0m\u001b[1;33m(\u001b[0m\u001b[1;33m[\u001b[0m\u001b[1;36m1\u001b[0m\u001b[1;33m,\u001b[0m\u001b[1;36m1.3\u001b[0m\u001b[1;33m,\u001b[0m\u001b[1;36m7\u001b[0m\u001b[1;33m,\u001b[0m\u001b[1;36m4.4\u001b[0m\u001b[1;33m,\u001b[0m\u001b[1;34m'hi'\u001b[0m\u001b[1;33m,\u001b[0m\u001b[1;33m[\u001b[0m\u001b[1;36m0\u001b[0m\u001b[1;33m,\u001b[0m\u001b[1;36m1\u001b[0m\u001b[1;33m]\u001b[0m\u001b[1;33m,\u001b[0m\u001b[1;34m'45'\u001b[0m\u001b[1;33m]\u001b[0m\u001b[1;33m)\u001b[0m\u001b[1;33m\u001b[0m\u001b[1;33m\u001b[0m\u001b[0m\n\u001b[0m",
      "\u001b[1;32m<ipython-input-53-74378a036cd9>\u001b[0m in \u001b[0;36msolve\u001b[1;34m(li)\u001b[0m\n\u001b[0;32m     27\u001b[0m     \u001b[1;31m#                  except ValueError:\u001b[0m\u001b[1;33m\u001b[0m\u001b[1;33m\u001b[0m\u001b[1;33m\u001b[0m\u001b[0m\n\u001b[0;32m     28\u001b[0m     \u001b[1;31m#                      print(\"value is undefined\")\u001b[0m\u001b[1;33m\u001b[0m\u001b[1;33m\u001b[0m\u001b[1;33m\u001b[0m\u001b[0m\n\u001b[1;32m---> 29\u001b[1;33m     \u001b[0mkeys\u001b[0m\u001b[1;33m=\u001b[0m \u001b[1;33m[\u001b[0m\u001b[0mstr\u001b[0m\u001b[1;33m(\u001b[0m\u001b[0mtype\u001b[0m\u001b[1;33m(\u001b[0m\u001b[0mitem\u001b[0m\u001b[1;33m)\u001b[0m\u001b[1;33m.\u001b[0m\u001b[0m__name__\u001b[0m\u001b[1;33m)\u001b[0m \u001b[1;32mfor\u001b[0m \u001b[0mitem\u001b[0m \u001b[1;32min\u001b[0m \u001b[0mli\u001b[0m\u001b[1;33m]\u001b[0m\u001b[1;33m\u001b[0m\u001b[1;33m\u001b[0m\u001b[0m\n\u001b[0m\u001b[0;32m     30\u001b[0m     \u001b[0mind\u001b[0m\u001b[1;33m=\u001b[0m\u001b[1;36m0\u001b[0m\u001b[1;33m\u001b[0m\u001b[1;33m\u001b[0m\u001b[0m\n\u001b[0;32m     31\u001b[0m     \u001b[1;32mfor\u001b[0m \u001b[0mkey\u001b[0m \u001b[1;32min\u001b[0m \u001b[0mkeys\u001b[0m\u001b[1;33m:\u001b[0m\u001b[1;33m\u001b[0m\u001b[1;33m\u001b[0m\u001b[0m\n",
      "\u001b[1;32m<ipython-input-53-74378a036cd9>\u001b[0m in \u001b[0;36m<listcomp>\u001b[1;34m(.0)\u001b[0m\n\u001b[0;32m     27\u001b[0m     \u001b[1;31m#                  except ValueError:\u001b[0m\u001b[1;33m\u001b[0m\u001b[1;33m\u001b[0m\u001b[1;33m\u001b[0m\u001b[0m\n\u001b[0;32m     28\u001b[0m     \u001b[1;31m#                      print(\"value is undefined\")\u001b[0m\u001b[1;33m\u001b[0m\u001b[1;33m\u001b[0m\u001b[1;33m\u001b[0m\u001b[0m\n\u001b[1;32m---> 29\u001b[1;33m     \u001b[0mkeys\u001b[0m\u001b[1;33m=\u001b[0m \u001b[1;33m[\u001b[0m\u001b[0mstr\u001b[0m\u001b[1;33m(\u001b[0m\u001b[0mtype\u001b[0m\u001b[1;33m(\u001b[0m\u001b[0mitem\u001b[0m\u001b[1;33m)\u001b[0m\u001b[1;33m.\u001b[0m\u001b[0m__name__\u001b[0m\u001b[1;33m)\u001b[0m \u001b[1;32mfor\u001b[0m \u001b[0mitem\u001b[0m \u001b[1;32min\u001b[0m \u001b[0mli\u001b[0m\u001b[1;33m]\u001b[0m\u001b[1;33m\u001b[0m\u001b[1;33m\u001b[0m\u001b[0m\n\u001b[0m\u001b[0;32m     30\u001b[0m     \u001b[0mind\u001b[0m\u001b[1;33m=\u001b[0m\u001b[1;36m0\u001b[0m\u001b[1;33m\u001b[0m\u001b[1;33m\u001b[0m\u001b[0m\n\u001b[0;32m     31\u001b[0m     \u001b[1;32mfor\u001b[0m \u001b[0mkey\u001b[0m \u001b[1;32min\u001b[0m \u001b[0mkeys\u001b[0m\u001b[1;33m:\u001b[0m\u001b[1;33m\u001b[0m\u001b[1;33m\u001b[0m\u001b[0m\n",
      "\u001b[1;31mTypeError\u001b[0m: 'str' object is not callable"
     ]
    }
   ],
   "source": [
    "def solve(li):\n",
    "    ret={}\n",
    "    # for i in li:\n",
    "    #     # element=str(i)\n",
    "    #     # if(element[0]==\"\\\"\"):\n",
    "    #     #     ret[str(type(i))]=i\n",
    "            \n",
    "    #     try:\n",
    "    #         val=float(i)\n",
    "    #         ret[str(type(val))]=i\n",
    "    #         continue\n",
    "    #     except (ValueError , TypeError):\n",
    "    #          try:\n",
    "    #              val=int(i)\n",
    "    #              ret[str(type(val))]=i\n",
    "    #              continue\n",
    "    #          except (ValueError , TypeError):\n",
    "    #              try:\n",
    "    #                  val=str(i)\n",
    "    #                  ret[str(type(val))]=i\n",
    "    #                  continue\n",
    "    #              except (ValueError , TypeError):\n",
    "    #                  try:\n",
    "    #                      val=list(i)\n",
    "    #                      ret[str(type(val))]=i\n",
    "    #                      continue\n",
    "    #                  except ValueError:\n",
    "    #                      print(\"value is undefined\")\n",
    "    keys= [str(type(item).__name__) for item in li]\n",
    "    ind=0\n",
    "    for key in keys:\n",
    "        ret[key]=[]\n",
    "    for key in keys:\n",
    "        ret[key].append(li[ind])\n",
    "        ind+=1\n",
    "    return ret\n",
    "solve([1,1.3,7,4.4,'hi',[0,1],'45'])"
   ]
  },
  {
   "cell_type": "code",
   "execution_count": 48,
   "metadata": {},
   "outputs": [
    {
     "name": "stdout",
     "output_type": "stream",
     "text": [
      "This is Matrix#  %!\n"
     ]
    }
   ],
   "source": [
    "# inline=input()\n",
    "# try:\n",
    "#         val = int(inline)\n",
    "#         nofelements =input()\n",
    "#         try:\n",
    "#             val2 = int(nofelements)\n",
    "#             li=[]\n",
    "#             while(val):\n",
    "#                 tmp=val2\n",
    "#                 st=input()\n",
    "#                 while(tmp):\n",
    "#                     li.append(st)\n",
    "#                     tmp-=1\n",
    "#                 val-=1\n",
    "#             print(li)\n",
    "#         except ValueError:\n",
    "#             print(\"please input an integer\")\n",
    "\n",
    "# except ValueError:\n",
    "#         print(\"please input an integer\")\n",
    "#---------------------------\n",
    "import re\n",
    "# inline=int(input())\n",
    "# numberofelements=input()\n",
    "# strarr=[]\n",
    "# while(inline):\n",
    "#      tmp=int(numberofelements)\n",
    "#      str=input()\n",
    "#      strarr.append(str)\n",
    "#      inline-=1\n",
    " #print(strarr)\n",
    "numberofelements=3\n",
    "strarr = ['Tsi', 'h%x', 'i #', 'sM ', '$a ', '#t%', 'ir!']\n",
    "retstr=\"\"\n",
    "j=0\n",
    "bol=[]\n",
    "for j in range(numberofelements):\n",
    "    for i in range(len(strarr)):\n",
    "        retstr+=strarr[i][j]\n",
    "tmp=\"\"\n",
    "lengthstr=len(retstr)\n",
    "while(lengthstr):\n",
    "    tmp+=retstr[lengthstr-1]\n",
    "    lengthstr-=1\n",
    " \n",
    "print(re.compile(r\"([a-zA-Z0-9])[^a-zA-Z0-9]+([a-zA-Z0-9])\").sub(r\"\\1 \\2\", \"\".join(retstr)))"
   ]
  },
  {
   "cell_type": "code",
   "execution_count": null,
   "metadata": {},
   "outputs": [],
   "source": []
  }
 ],
 "metadata": {
  "kernelspec": {
   "display_name": "Python 3.8.8",
   "language": "python",
   "name": "python3"
  },
  "language_info": {
   "codemirror_mode": {
    "name": "ipython",
    "version": 3
   },
   "file_extension": ".py",
   "mimetype": "text/x-python",
   "name": "python",
   "nbconvert_exporter": "python",
   "pygments_lexer": "ipython3",
   "version": "3.8.8"
  },
  "orig_nbformat": 4,
  "vscode": {
   "interpreter": {
    "hash": "8eecf875714f75d2115348ec88d10722cdfe7b154ab5df5822b4c072099e2097"
   }
  }
 },
 "nbformat": 4,
 "nbformat_minor": 2
}
