{
 "cells": [
  {
   "cell_type": "code",
   "execution_count": 2,
   "metadata": {},
   "outputs": [],
   "source": [
    "import cv2\n",
    "import numpy as np\n",
    "from matplotlib  import pyplot as plt\n",
    "from helpers import helpers_formulate_lanes as formulate_lanes"
   ]
  },
  {
   "cell_type": "code",
   "execution_count": 3,
   "metadata": {},
   "outputs": [],
   "source": [
    "def mainfunc(greyimg,low_th,high_th,minlinelin,maxlinegap,orgimg):\n",
    "    aftcanny=cannyimg(greyimg,low_th,high_th)\n",
    "    aftmask=maskROI(aftcanny)\n",
    "    afthoughline=hough_lines(aftcanny,minlinelin,maxlinegap)\n",
    "    aftform=formulate_lanes(afthoughline,aftmask)\n",
    "    lanes_img = draw_lines(aftform, orgimg)\n",
    "    return cv2.addWeighted(orgimg, 0.9, lanes_img, 1, 0)\n",
    "def draw_lines(lines, masked_edges):\n",
    "  color = [243, 105, 14]\n",
    "  thickness = 12\n",
    "  lines_image = np.zeros((masked_edges.shape[0], masked_edges.shape[1], 3), dtype=np.uint8)\n",
    "  for line in lines:\n",
    "    for x1,y1,x2,y2 in line:\n",
    "      cv2.line(lines_image, (x1, y1), (x2, y2), color, thickness)\n",
    "  return(lines_image)\n",
    "def hough_lines(img,min_line_len,max_line_gap):\n",
    "  RHO = 1                 # try: 1 - 4 (0.5 increments)  \n",
    "  THETA = np.pi/180       # Usually this is Ok\n",
    "  MIN_VOTES = 10          # try: 10 - 50                  # Typical: 30\n",
    "  #MIN_LINE_LEN = 5 \n",
    "  #MAX_LINE_GAP = 50 \n",
    "  lines = cv2.HoughLinesP(img, RHO, THETA, MIN_VOTES, np.array([]), minLineLength=min_line_len, maxLineGap=max_line_gap)\n",
    "  return lines\n",
    "def cannyimg(img,low_th,high_th):\n",
    "  return cv2.Canny(cv2.GaussianBlur(img, (7,7), 0), low_th, high_th)\n",
    "def maskROI(img):\n",
    "  mask = np.zeros_like(img)\n",
    "  if len(img.shape) > 2:\n",
    "    channel_count = img.shape[2]\n",
    "    ignore_mask_color = (255,) * channel_count\n",
    "  else:\n",
    "    ignore_mask_color = 255\n",
    "  imshape = img.shape        \n",
    "  vertices = np.array([\n",
    "    [\n",
    "      ((1/6*imshape[1]), imshape[0]),\n",
    "      ((5/12*imshape[1]), (3/5*imshape[0])),\n",
    "      ((7/12*imshape[1]), (3/5*imshape[0])),\n",
    "      ((9/10*imshape[1]), imshape[0])\n",
    "    ]], dtype=np.int32)\n",
    "  cv2.fillPoly(mask, vertices, ignore_mask_color)\n",
    "  masked_edges = cv2.bitwise_and(img, mask)\n",
    "  return(masked_edges)\n"
   ]
  },
  {
   "cell_type": "code",
   "execution_count": 4,
   "metadata": {},
   "outputs": [
    {
     "name": "stdout",
     "output_type": "stream",
     "text": [
      "(331, 600, 3) (320, 480, 3)\n"
     ]
    }
   ],
   "source": [
    "img1=cv2.imread(\"nature.jpg\")\n",
    "img2=cv2.imread(\"Task_in.jpg\")\n",
    "print(img1.shape,img2.shape)"
   ]
  },
  {
   "cell_type": "code",
   "execution_count": 7,
   "metadata": {},
   "outputs": [
    {
     "ename": "error",
     "evalue": "OpenCV(4.6.0) D:\\a\\opencv-python\\opencv-python\\opencv\\modules\\highgui\\src\\window_w32.cpp:2581: error: (-27:Null pointer) NULL window: 'image' in function 'cvGetTrackbarPos'\n",
     "output_type": "error",
     "traceback": [
      "\u001b[1;31m---------------------------------------------------------------------------\u001b[0m",
      "\u001b[1;31merror\u001b[0m                                     Traceback (most recent call last)",
      "\u001b[1;32m<ipython-input-7-6437259c7ebd>\u001b[0m in \u001b[0;36m<module>\u001b[1;34m\u001b[0m\n\u001b[0;32m      5\u001b[0m \u001b[0mcv2\u001b[0m\u001b[1;33m.\u001b[0m\u001b[0mcreateTrackbar\u001b[0m\u001b[1;33m(\u001b[0m\u001b[1;34m\"cannyorblur\"\u001b[0m\u001b[1;33m,\u001b[0m\u001b[1;34m\"image\"\u001b[0m\u001b[1;33m,\u001b[0m\u001b[1;36m0\u001b[0m\u001b[1;33m,\u001b[0m\u001b[1;36m1\u001b[0m\u001b[1;33m,\u001b[0m\u001b[0mdum\u001b[0m\u001b[1;33m)\u001b[0m\u001b[1;33m\u001b[0m\u001b[1;33m\u001b[0m\u001b[0m\n\u001b[0;32m      6\u001b[0m \u001b[1;32mwhile\u001b[0m\u001b[1;33m(\u001b[0m\u001b[1;32mTrue\u001b[0m\u001b[1;33m)\u001b[0m\u001b[1;33m:\u001b[0m\u001b[1;33m\u001b[0m\u001b[1;33m\u001b[0m\u001b[0m\n\u001b[1;32m----> 7\u001b[1;33m     \u001b[0mimgno\u001b[0m\u001b[1;33m=\u001b[0m\u001b[0mcv2\u001b[0m\u001b[1;33m.\u001b[0m\u001b[0mgetTrackbarPos\u001b[0m\u001b[1;33m(\u001b[0m\u001b[1;34m\"imgno\"\u001b[0m\u001b[1;33m,\u001b[0m\u001b[1;34m\"image\"\u001b[0m\u001b[1;33m)\u001b[0m\u001b[1;33m\u001b[0m\u001b[1;33m\u001b[0m\u001b[0m\n\u001b[0m\u001b[0;32m      8\u001b[0m     \u001b[0mcannyorblur\u001b[0m\u001b[1;33m=\u001b[0m\u001b[0mcv2\u001b[0m\u001b[1;33m.\u001b[0m\u001b[0mgetTrackbarPos\u001b[0m\u001b[1;33m(\u001b[0m\u001b[1;34m\"cannyorblur\"\u001b[0m\u001b[1;33m,\u001b[0m\u001b[1;34m\"image\"\u001b[0m\u001b[1;33m)\u001b[0m\u001b[1;33m\u001b[0m\u001b[1;33m\u001b[0m\u001b[0m\n\u001b[0;32m      9\u001b[0m     \u001b[0mimg\u001b[0m\u001b[1;33m=\u001b[0m\u001b[0mnp\u001b[0m\u001b[1;33m.\u001b[0m\u001b[0marray\u001b[0m\u001b[1;33m(\u001b[0m\u001b[1;33m[\u001b[0m\u001b[1;33m]\u001b[0m\u001b[1;33m)\u001b[0m\u001b[1;33m\u001b[0m\u001b[1;33m\u001b[0m\u001b[0m\n",
      "\u001b[1;31merror\u001b[0m: OpenCV(4.6.0) D:\\a\\opencv-python\\opencv-python\\opencv\\modules\\highgui\\src\\window_w32.cpp:2581: error: (-27:Null pointer) NULL window: 'image' in function 'cvGetTrackbarPos'\n"
     ]
    }
   ],
   "source": [
    "cv2.namedWindow(\"image\")\n",
    "def dum(x):\n",
    "    pass\n",
    "cv2.createTrackbar(\"imgno\",\"image\",0,1,dum)\n",
    "cv2.createTrackbar(\"cannyorblur\",\"image\",0,1,dum)\n",
    "while(True):\n",
    "    imgno=cv2.getTrackbarPos(\"imgno\",\"image\")\n",
    "    cannyorblur=cv2.getTrackbarPos(\"cannyorblur\",\"image\")\n",
    "    img=np.array([])\n",
    "    if imgno==0:\n",
    "        img=np.copy(img1)\n",
    "    else:\n",
    "        img=np.copy(img2)\n",
    "    if cannyorblur==0:\n",
    "        out=cannyimg(img,52,123)\n",
    "        #mainfunc(cv2.cvtColor(img,cv2.COLOR_BGR2GRAY),52,123,40,0,img)\n",
    "    else:\n",
    "        out=cv2.blur(img,(9,9))\n",
    "    cv2.imshow(\"image\",out)\n",
    "    key=cv2.waitKey(1)\n",
    "    if(key==ord('q')):\n",
    "        break\n",
    "cv2.destroyAllWindows()    "
   ]
  },
  {
   "cell_type": "code",
   "execution_count": null,
   "metadata": {},
   "outputs": [],
   "source": []
  }
 ],
 "metadata": {
  "kernelspec": {
   "display_name": "Python 3.8.8",
   "language": "python",
   "name": "python3"
  },
  "language_info": {
   "codemirror_mode": {
    "name": "ipython",
    "version": 3
   },
   "file_extension": ".py",
   "mimetype": "text/x-python",
   "name": "python",
   "nbconvert_exporter": "python",
   "pygments_lexer": "ipython3",
   "version": "3.8.8"
  },
  "orig_nbformat": 4,
  "vscode": {
   "interpreter": {
    "hash": "8eecf875714f75d2115348ec88d10722cdfe7b154ab5df5822b4c072099e2097"
   }
  }
 },
 "nbformat": 4,
 "nbformat_minor": 2
}
