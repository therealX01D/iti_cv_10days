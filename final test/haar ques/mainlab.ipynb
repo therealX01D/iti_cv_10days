{
 "cells": [
  {
   "cell_type": "code",
   "execution_count": 2,
   "metadata": {},
   "outputs": [],
   "source": [
    "import cv2\n",
    "import numpy as np \n",
    "from matplotlib import pyplot as plt"
   ]
  },
  {
   "cell_type": "code",
   "execution_count": 3,
   "metadata": {},
   "outputs": [],
   "source": [
    "face_cascade = cv2.CascadeClassifier(cv2.data.haarcascades +'haarcascade_frontalface_default.xml')\n",
    "eye_cascade = cv2.CascadeClassifier(cv2.data.haarcascades +'haarcascade_eye.xml')\n",
    "smile_cascade = cv2.CascadeClassifier(cv2.data.haarcascades +'haarcascade_smile.xml')"
   ]
  },
  {
   "cell_type": "code",
   "execution_count": 17,
   "metadata": {},
   "outputs": [],
   "source": [
    "cv2.namedWindow(\"image\")\n",
    "img2=cv2.imread(\"viola.jpg\")\n",
    "ispressed=False\n",
    "while(True):\n",
    "    img=np.copy(img2)\n",
    "    gray=cv2.cvtColor(img,cv2.COLOR_BGR2GRAY)\n",
    "    faces = face_cascade.detectMultiScale(gray, scaleFactor=1.3,minNeighbors=5)\n",
    "    for (x, y, w, h) in faces:\n",
    "        cv2.rectangle(img, (x, y), ((x + w), (y + h)), (0, 0, 255), 2)\n",
    "        #cv2.putText(img,\"Peter\")\n",
    "        cv2.putText(img,\"Face\",(x+2,(y+h+14)),cv2.FONT_HERSHEY_COMPLEX_SMALL,1,(255,0,0),2)\n",
    "        smiles = smile_cascade.detectMultiScale(gray[y:y + h, x:x + w], scaleFactor=1.8, minNeighbors=20)\n",
    "        eyes=eye_cascade.detectMultiScale(gray[y:y+h,x:x+w],scaleFactor=1.05,minNeighbors=4)\n",
    "\n",
    "        for (sx, sy, sw, sh) in smiles:\n",
    "            cv2.rectangle(img, (x+sx, y+sy), ((sx+x+sw), (sy+y+sh)), (0, 0, 255), 2)\n",
    "            cv2.putText(img,\"smile\",(x+sx+2,(sy+y+sh+14)),cv2.FONT_HERSHEY_COMPLEX_SMALL,1,(0,0,255),2)\n",
    "        for (ex, ey, ew, eh) in eyes:\n",
    "            cv2.circle(img, (int((2*(x+ex)+ew)/2), (int((2*(y+ey)+eh)/2))), int((ey+y+eh)/25), (0, 255, 0), 2)\n",
    "            cv2.putText(img,\"eyes\",(x+ex+2,(ey+y+eh+14)),cv2.FONT_HERSHEY_COMPLEX_SMALL,1,(0,255,0),2)\n",
    "\n",
    "    key=cv2.waitKey(100)\n",
    "    if(key==ord('i')):\n",
    "        ispressed=not ispressed\n",
    "    if(ispressed):\n",
    "        cv2.imshow(\"image\",img)\n",
    "    else:\n",
    "        cv2.imshow(\"image\",img2)\n",
    "    if(key==ord('b')):\n",
    "        cv2.imshow(\"image\",cv2.blur(img2,(9,9)))\n",
    "    if(key==ord('q')):\n",
    "        break\n",
    "cv2.destroyAllWindows()    "
   ]
  },
  {
   "cell_type": "code",
   "execution_count": null,
   "metadata": {},
   "outputs": [],
   "source": []
  }
 ],
 "metadata": {
  "kernelspec": {
   "display_name": "Python 3.8.8",
   "language": "python",
   "name": "python3"
  },
  "language_info": {
   "codemirror_mode": {
    "name": "ipython",
    "version": 3
   },
   "file_extension": ".py",
   "mimetype": "text/x-python",
   "name": "python",
   "nbconvert_exporter": "python",
   "pygments_lexer": "ipython3",
   "version": "3.8.8"
  },
  "orig_nbformat": 4,
  "vscode": {
   "interpreter": {
    "hash": "8eecf875714f75d2115348ec88d10722cdfe7b154ab5df5822b4c072099e2097"
   }
  }
 },
 "nbformat": 4,
 "nbformat_minor": 2
}
