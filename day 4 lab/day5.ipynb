{
 "cells": [
  {
   "cell_type": "code",
   "execution_count": 1,
   "metadata": {},
   "outputs": [],
   "source": [
    "import numpy as np\n",
    "import cv2\n",
    "from matplotlib import pyplot as plt\n"
   ]
  },
  {
   "cell_type": "code",
   "execution_count": 29,
   "metadata": {},
   "outputs": [
    {
     "name": "stdout",
     "output_type": "stream",
     "text": [
      "0 [1. 0. 0. 0. 0. 0. 0. 0. 0. 0.]\n",
      "1 [0. 1. 0. 0. 0. 0. 0. 0. 0. 0.]\n",
      "2 [0. 0. 1. 0. 0. 0. 0. 0. 0. 0.]\n",
      "3 [0. 0. 0. 1. 0. 0. 0. 0. 0. 0.]\n",
      "4 [0. 0. 0. 0. 1. 0. 0. 0. 0. 0.]\n",
      "5 [0. 0. 0. 0. 0. 1. 0. 0. 0. 0.]\n",
      "6 [0. 0. 0. 0. 0. 0. 1. 0. 0. 0.]\n",
      "7 [0. 0. 0. 0. 0. 0. 0. 1. 0. 0.]\n",
      "8 [0. 0. 0. 0. 0. 0. 0. 0. 1. 0.]\n",
      "9 [0. 0. 0. 0. 0. 0. 0. 0. 0. 1.]\n",
      "[[1. 0. 0. 0. 0. 0. 0. 0. 0. 0.]\n",
      " [0. 1. 0. 0. 0. 0. 0. 0. 0. 0.]\n",
      " [0. 0. 1. 0. 0. 0. 0. 0. 0. 0.]\n",
      " [0. 0. 0. 1. 0. 0. 0. 0. 0. 0.]\n",
      " [0. 0. 0. 0. 1. 0. 0. 0. 0. 0.]\n",
      " [0. 0. 0. 0. 0. 1. 0. 0. 0. 0.]\n",
      " [0. 0. 0. 0. 0. 0. 1. 0. 0. 0.]\n",
      " [0. 0. 0. 0. 0. 0. 0. 1. 0. 0.]\n",
      " [0. 0. 0. 0. 0. 0. 0. 0. 1. 0.]\n",
      " [0. 0. 0. 0. 0. 0. 0. 0. 0. 1.]]\n"
     ]
    },
    {
     "data": {
      "text/plain": [
       "<matplotlib.image.AxesImage at 0x25840a30280>"
      ]
     },
     "execution_count": 29,
     "metadata": {},
     "output_type": "execute_result"
    },
    {
     "data": {
      "image/png": "[encoded data removed]",
      "text/plain": [
       "<Figure size 432x288 with 1 Axes>"
      ]
     },
     "metadata": {
      "needs_background": "light"
     },
     "output_type": "display_data"
    }
   ],
   "source": [
    "img=np.zeros((10,10))\n",
    "#img.shape\n",
    "#img[:]=np.eye(10,dtype=np.uint8)\n",
    "\n",
    "for i,row in enumerate(img):\n",
    "    \n",
    "    for j ,col in enumerate(row):\n",
    "        if i ==j:\n",
    "            img[i,j]=1\n",
    "            print(i,row)\n",
    "\n",
    "\n",
    "print(img)\n",
    "plt.imshow(img,cmap='gray')"
   ]
  },
  {
   "cell_type": "code",
   "execution_count": 18,
   "metadata": {},
   "outputs": [
    {
     "name": "stdout",
     "output_type": "stream",
     "text": [
      "0 10\n",
      "1 5\n",
      "2 60\n",
      "3 30\n"
     ]
    }
   ],
   "source": [
    "x=[10,5,60,30]\n",
    "for i,data in enumerate(x):\n",
    "    print(i,data)"
   ]
  },
  {
   "cell_type": "code",
   "execution_count": 13,
   "metadata": {},
   "outputs": [
    {
     "data": {
      "text/plain": [
       "array([[1., 0., 0., 0., 0.],\n",
       "       [0., 1., 0., 0., 0.],\n",
       "       [0., 0., 1., 0., 0.],\n",
       "       [0., 0., 0., 1., 0.],\n",
       "       [0., 0., 0., 0., 1.]])"
      ]
     },
     "execution_count": 13,
     "metadata": {},
     "output_type": "execute_result"
    }
   ],
   "source": [
    "np.identity(5)"
   ]
  },
  {
   "cell_type": "code",
   "execution_count": 33,
   "metadata": {},
   "outputs": [
    {
     "data": {
      "text/plain": [
       "<matplotlib.image.AxesImage at 0x25841b68d30>"
      ]
     },
     "execution_count": 33,
     "metadata": {},
     "output_type": "execute_result"
    },
    {
     "data": {
      "image/png": "[encoded data removed]",
      "text/plain": [
       "<Figure size 432x288 with 1 Axes>"
      ]
     },
     "metadata": {
      "needs_background": "light"
     },
     "output_type": "display_data"
    }
   ],
   "source": [
    "img=np.zeros((50,50),np.uint8)\n",
    "img[-10,:]=255\n",
    "img[:,2]=255\n",
    "img[10,:]=255\n",
    "img[:,-2]=255\n",
    "plt.imshow(img,cmap='gray')"
   ]
  },
  {
   "cell_type": "code",
   "execution_count": 8,
   "metadata": {},
   "outputs": [],
   "source": [
    "import numpy as np\n",
    "import cv2\n",
    "from matplotlib import pyplot as plt\n",
    "\n",
    "img=np.zeros((600,600),np.uint8)\n",
    "\n",
    "def no(x):\n",
    "    pass\n",
    "cv2.namedWindow(\"my_image\")\n",
    "cv2.createTrackbar('row','my_image',0,600,no)\n",
    "cv2.createTrackbar('col','my_image',0,600,no)\n",
    "cv2.createTrackbar('x','my_image',0,600,no)\n",
    "cv2.createTrackbar('y','my_image',0,600,no)\n",
    "row=0\n",
    "col=0\n",
    "x=0\n",
    "y=0\n",
    "while True:\n",
    "    img[row,:]=0\n",
    "    img[:,col]=0\n",
    "    img[x,y]=0\n",
    "    \n",
    "    #img=np.zeros((600,600),np.uint8)\n",
    "    row =cv2.getTrackbarPos('row','my_image')\n",
    "    col =cv2.getTrackbarPos('col','my_image')\n",
    "    x =cv2.getTrackbarPos('x','my_image')\n",
    "    y =cv2.getTrackbarPos('y','my_image')\n",
    "    img[row,:]=255\n",
    "    img[:,col]=255\n",
    "    img[x,y]=255\n",
    "    \n",
    "    cv2.imshow('my_image',img)\n",
    "    k=cv2.waitKey(1)\n",
    "    if k== ord('q'):\n",
    "        break\n",
    "cv2.destroyAllWindows()\n",
    "\n",
    "\n"
   ]
  },
  {
   "cell_type": "code",
   "execution_count": 9,
   "metadata": {},
   "outputs": [
    {
     "data": {
      "text/plain": [
       "(255, 255, 3)"
      ]
     },
     "execution_count": 9,
     "metadata": {},
     "output_type": "execute_result"
    }
   ],
   "source": [
    "img=np.zeros((255,255,3),np.uint8)\n",
    "img.shape\n",
    "plt."
   ]
  },
  {
   "cell_type": "code",
   "execution_count": null,
   "metadata": {},
   "outputs": [],
   "source": []
  }
 ],
 "metadata": {
  "kernelspec": {
   "display_name": "Python 3.10.4 64-bit",
   "language": "python",
   "name": "python3"
  },
  "language_info": {
   "codemirror_mode": {
    "name": "ipython",
    "version": 3
   },
   "file_extension": ".py",
   "mimetype": "text/x-python",
   "name": "python",
   "nbconvert_exporter": "python",
   "pygments_lexer": "ipython3",
   "version": "3.10.4"
  },
  "orig_nbformat": 4,
  "vscode": {
   "interpreter": {
    "hash": "4ba10947d4943caf114b0b0bf83fd9f73372e3215e53e488ddab7d5a1f17815b"
   }
  }
 },
 "nbformat": 4,
 "nbformat_minor": 2
}
