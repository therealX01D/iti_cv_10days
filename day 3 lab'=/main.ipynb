{
 "cells": [
  {
   "cell_type": "code",
   "execution_count": 2,
   "metadata": {},
   "outputs": [],
   "source": [
    "import cv2\n",
    "from matplotlib import pyplot as plt\n",
    "import numpy as np"
   ]
  },
  {
   "cell_type": "markdown",
   "metadata": {},
   "source": [
    "#### Q10- read “Task_in” image and then print image shape ,plot the image using\n",
    "#### matplotlib and opencv then edit the right corner pixel to be red color then save the\n",
    "#### image as (.jpg,.npg) to your current folder name it “my_image.png” then read both\n",
    "#### image again. “Make your observation”."
   ]
  },
  {
   "cell_type": "code",
   "execution_count": 3,
   "metadata": {},
   "outputs": [],
   "source": [
    "img=cv2.imread(\"Task_in.jpg\")"
   ]
  },
  {
   "cell_type": "code",
   "execution_count": 4,
   "metadata": {},
   "outputs": [
    {
     "data": {
      "text/plain": [
       "(21, 21, 3)"
      ]
     },
     "execution_count": 4,
     "metadata": {},
     "output_type": "execute_result"
    }
   ],
   "source": [
    "img.shape"
   ]
  },
  {
   "cell_type": "code",
   "execution_count": 14,
   "metadata": {},
   "outputs": [],
   "source": [
    "img[0][20]=[0,0,255]"
   ]
  },
  {
   "cell_type": "code",
   "execution_count": 15,
   "metadata": {},
   "outputs": [
    {
     "data": {
      "text/plain": [
       "array([[[  0,   0,   0],\n",
       "        [  0,   0,   0],\n",
       "        [  0,   0,   0],\n",
       "        ...,\n",
       "        [  0,   0,   0],\n",
       "        [  0,   0,   0],\n",
       "        [  0,   0, 255]],\n",
       "\n",
       "       [[  0,   0,   0],\n",
       "        [  0,   0,   0],\n",
       "        [  0,   0,   0],\n",
       "        ...,\n",
       "        [  0,   0,   0],\n",
       "        [  0,   0,   0],\n",
       "        [  0,   0,   0]],\n",
       "\n",
       "       [[  0,   0,   0],\n",
       "        [  0,   0,   0],\n",
       "        [  0,   0,   0],\n",
       "        ...,\n",
       "        [  0,   0,   0],\n",
       "        [  0,   0,   0],\n",
       "        [  0,   0,   0]],\n",
       "\n",
       "       ...,\n",
       "\n",
       "       [[  0,   0,   0],\n",
       "        [  0,   0,   0],\n",
       "        [  0,   0,   0],\n",
       "        ...,\n",
       "        [  0,   0,   0],\n",
       "        [  0,   0,   0],\n",
       "        [  0,   0,   0]],\n",
       "\n",
       "       [[  0,   0,   0],\n",
       "        [  0,   0,   0],\n",
       "        [  0,   0,   0],\n",
       "        ...,\n",
       "        [  0,   0,   0],\n",
       "        [  0,   0,   0],\n",
       "        [  0,   0,   0]],\n",
       "\n",
       "       [[  0,   0,   0],\n",
       "        [  0,   0,   0],\n",
       "        [  0,   0,   0],\n",
       "        ...,\n",
       "        [  0,   0,   0],\n",
       "        [  0,   0,   0],\n",
       "        [  0,   0,   0]]], dtype=uint8)"
      ]
     },
     "execution_count": 15,
     "metadata": {},
     "output_type": "execute_result"
    }
   ],
   "source": [
    "img"
   ]
  },
  {
   "cell_type": "code",
   "execution_count": 17,
   "metadata": {},
   "outputs": [
    {
     "data": {
      "text/plain": [
       "True"
      ]
     },
     "execution_count": 17,
     "metadata": {},
     "output_type": "execute_result"
    }
   ],
   "source": [
    "cv2.imwrite(\"my_image.png\",img)"
   ]
  },
  {
   "cell_type": "code",
   "execution_count": 18,
   "metadata": {},
   "outputs": [],
   "source": [
    "my_image=cv2.imread(\"my_image.png\")\n",
    "img=cv2.imread(\"Task_in.jpg\")"
   ]
  },
  {
   "cell_type": "code",
   "execution_count": 19,
   "metadata": {},
   "outputs": [
    {
     "data": {
      "text/plain": [
       "<matplotlib.image.AxesImage at 0x17e180589a0>"
      ]
     },
     "execution_count": 19,
     "metadata": {},
     "output_type": "execute_result"
    },
    {
     "data": {
      "image/png": "[encoded data removed]",
      "text/plain": [
       "<Figure size 432x288 with 1 Axes>"
      ]
     },
     "metadata": {
      "needs_background": "light"
     },
     "output_type": "display_data"
    }
   ],
   "source": [
    "plt.imshow(img)"
   ]
  },
  {
   "cell_type": "code",
   "execution_count": 20,
   "metadata": {},
   "outputs": [
    {
     "data": {
      "text/plain": [
       "<matplotlib.image.AxesImage at 0x17e180b4b20>"
      ]
     },
     "execution_count": 20,
     "metadata": {},
     "output_type": "execute_result"
    },
    {
     "data": {
      "image/png": "[encoded data removed]",
      "text/plain": [
       "<Figure size 432x288 with 1 Axes>"
      ]
     },
     "metadata": {
      "needs_background": "light"
     },
     "output_type": "display_data"
    }
   ],
   "source": [
    "plt.imshow(my_image[:,:,::-1])"
   ]
  },
  {
   "cell_type": "markdown",
   "metadata": {},
   "source": [
    "### Observation\n",
    "***\n",
    "When the colors of the right corner was changed in an bgr format before saving the image to a png (which have a significance increase in size due to its lossless compression) then we imported back both images we find its rgb format of each pixel inverted thus we have to invert the image bgr tuple to appear in the correct form on matplot lib imshow function which is contrary to that of opencv imshow function which accepts a bgr formated pixels and print the correct image"
   ]
  },
  {
   "cell_type": "markdown",
   "metadata": {},
   "source": [
    "#### Q11- make 51\\*51\\*3 RGB image with Blue color then save it as”Blue.jpg"
   ]
  },
  {
   "cell_type": "code",
   "execution_count": 24,
   "metadata": {},
   "outputs": [
    {
     "name": "stderr",
     "output_type": "stream",
     "text": [
      "Clipping input data to the valid range for imshow with RGB data ([0..1] for floats or [0..255] for integers).\n"
     ]
    },
    {
     "data": {
      "text/plain": [
       "<matplotlib.image.AxesImage at 0x17e181ddf10>"
      ]
     },
     "execution_count": 24,
     "metadata": {},
     "output_type": "execute_result"
    },
    {
     "data": {
      "image/png": "[encoded data removed]",
      "text/plain": [
       "<Figure size 432x288 with 1 Axes>"
      ]
     },
     "metadata": {
      "needs_background": "light"
     },
     "output_type": "display_data"
    }
   ],
   "source": [
    "blue = np.ones((51,51,3))\n",
    "blue[:,:]=[0,0,255]\n",
    "cv2.imwrite(\"Blue.jpg\",blue[:,:,::-1])\n",
    "plt.imshow(blue)"
   ]
  },
  {
   "cell_type": "code",
   "execution_count": 28,
   "metadata": {},
   "outputs": [
    {
     "name": "stdout",
     "output_type": "stream",
     "text": [
      "51\n",
      "102\n",
      "153\n",
      "204\n",
      "255\n",
      "2\n",
      "3\n",
      "9\n",
      "14\n",
      "21\n",
      "24\n",
      "26\n",
      "28\n",
      "31\n",
      "35\n",
      "38\n",
      "42\n",
      "43\n",
      "47\n",
      "49\n",
      "50\n",
      "54\n",
      "56\n",
      "59\n",
      "66\n",
      "69\n",
      "73\n",
      "76\n",
      "82\n",
      "85\n",
      "92\n",
      "94\n",
      "95\n",
      "99\n",
      "101\n",
      "102\n",
      "104\n",
      "109\n",
      "111\n",
      "113\n",
      "116\n",
      "118\n",
      "120\n",
      "125\n",
      "127\n",
      "130\n",
      "132\n",
      "134\n",
      "137\n",
      "139\n",
      "141\n",
      "142\n",
      "144\n",
      "146\n",
      "149\n",
      "151\n",
      "153\n",
      "253\n",
      "252\n",
      "239\n",
      "238\n",
      "224\n",
      "210\n",
      "203\n",
      "196\n",
      "189\n",
      "184\n",
      "175\n",
      "168\n",
      "161\n",
      "156\n",
      "147\n",
      "146\n",
      "144\n",
      "141\n",
      "137\n",
      "135\n",
      "134\n",
      "127\n",
      "121\n",
      "116\n",
      "114\n",
      "113\n",
      "114\n",
      "116\n",
      "120\n",
      "121\n",
      "123\n",
      "125\n",
      "127\n",
      "128\n",
      "130\n",
      "134\n",
      "141\n",
      "144\n",
      "147\n",
      "149\n",
      "156\n",
      "161\n",
      "172\n",
      "184\n",
      "199\n",
      "208\n",
      "213\n",
      "217\n",
      "220\n",
      "224\n",
      "226\n",
      "229\n",
      "236\n",
      "243\n",
      "253\n",
      "255\n",
      "250\n",
      "248\n",
      "239\n",
      "238\n",
      "236\n",
      "232\n",
      "231\n",
      "227\n",
      "215\n",
      "201\n",
      "198\n",
      "189\n",
      "175\n",
      "168\n",
      "156\n",
      "144\n",
      "127\n",
      "116\n",
      "113\n",
      "109\n",
      "108\n",
      "104\n",
      "102\n",
      "101\n",
      "97\n",
      "95\n",
      "94\n",
      "90\n",
      "88\n",
      "76\n",
      "62\n",
      "56\n",
      "49\n",
      "40\n",
      "31\n",
      "21\n",
      "12\n",
      "5\n",
      "0\n",
      "147\n",
      "142\n",
      "127\n",
      "120\n",
      "118\n",
      "114\n",
      "111\n",
      "97\n",
      "90\n",
      "87\n",
      "83\n",
      "69\n",
      "64\n",
      "59\n",
      "56\n",
      "49\n",
      "47\n",
      "45\n",
      "43\n",
      "42\n",
      "38\n",
      "36\n",
      "35\n",
      "29\n",
      "26\n",
      "24\n",
      "23\n",
      "21\n",
      "19\n",
      "16\n",
      "14\n",
      "12\n",
      "10\n",
      "9\n",
      "7\n",
      "5\n",
      "3\n",
      "2\n",
      "0\n",
      "3\n",
      "5\n",
      "9\n",
      "14\n",
      "16\n",
      "19\n",
      "23\n",
      "24\n",
      "26\n",
      "28\n",
      "31\n",
      "36\n",
      "40\n",
      "49\n",
      "54\n",
      "62\n",
      "71\n",
      "75\n",
      "76\n",
      "78\n",
      "80\n",
      "82\n",
      "83\n",
      "85\n",
      "88\n",
      "90\n",
      "92\n",
      "95\n",
      "97\n",
      "99\n",
      "102\n",
      "108\n",
      "109\n",
      "111\n",
      "113\n",
      "116\n",
      "113\n",
      "109\n",
      "104\n",
      "102\n",
      "99\n",
      "95\n",
      "94\n",
      "92\n",
      "90\n",
      "88\n",
      "87\n",
      "85\n",
      "83\n",
      "82\n",
      "80\n",
      "78\n",
      "76\n",
      "75\n",
      "73\n",
      "69\n",
      "68\n",
      "66\n",
      "62\n",
      "61\n",
      "59\n",
      "56\n",
      "54\n",
      "52\n",
      "54\n",
      "56\n",
      "57\n",
      "61\n",
      "64\n",
      "66\n",
      "68\n",
      "69\n",
      "71\n",
      "73\n",
      "75\n",
      "76\n",
      "78\n",
      "80\n",
      "82\n",
      "83\n",
      "2\n",
      "3\n",
      "5\n",
      "7\n",
      "9\n",
      "10\n",
      "12\n",
      "14\n",
      "16\n",
      "19\n",
      "21\n",
      "23\n",
      "24\n",
      "28\n",
      "35\n",
      "38\n",
      "40\n",
      "42\n",
      "43\n",
      "45\n",
      "47\n",
      "49\n",
      "52\n",
      "50\n",
      "49\n",
      "47\n",
      "45\n",
      "42\n",
      "40\n",
      "38\n",
      "36\n",
      "33\n",
      "31\n",
      "29\n",
      "28\n",
      "26\n",
      "21\n",
      "17\n",
      "14\n",
      "12\n",
      "10\n",
      "9\n",
      "7\n",
      "5\n"
     ]
    },
    {
     "ename": "error",
     "evalue": "OpenCV(4.6.0) D:\\a\\opencv-python\\opencv-python\\opencv\\modules\\highgui\\src\\window_w32.cpp:2581: error: (-27:Null pointer) NULL window: 'colors' in function 'cvGetTrackbarPos'\n",
     "output_type": "error",
     "traceback": [
      "\u001b[1;31m---------------------------------------------------------------------------\u001b[0m",
      "\u001b[1;31merror\u001b[0m                                     Traceback (most recent call last)",
      "\u001b[1;32m<ipython-input-28-9f3894a79d06>\u001b[0m in \u001b[0;36m<module>\u001b[1;34m\u001b[0m\n\u001b[0;32m      7\u001b[0m \u001b[0mimg\u001b[0m\u001b[1;33m=\u001b[0m\u001b[0mnp\u001b[0m\u001b[1;33m.\u001b[0m\u001b[0mzeros\u001b[0m\u001b[1;33m(\u001b[0m\u001b[1;33m(\u001b[0m\u001b[1;36m500\u001b[0m\u001b[1;33m,\u001b[0m\u001b[1;36m500\u001b[0m\u001b[1;33m,\u001b[0m\u001b[1;36m3\u001b[0m\u001b[1;33m)\u001b[0m\u001b[1;33m,\u001b[0m\u001b[0mdtype\u001b[0m\u001b[1;33m=\u001b[0m\u001b[0mnp\u001b[0m\u001b[1;33m.\u001b[0m\u001b[0muint8\u001b[0m\u001b[1;33m)\u001b[0m\u001b[1;33m\u001b[0m\u001b[1;33m\u001b[0m\u001b[0m\n\u001b[0;32m      8\u001b[0m \u001b[1;32mwhile\u001b[0m \u001b[1;32mTrue\u001b[0m\u001b[1;33m:\u001b[0m\u001b[1;33m\u001b[0m\u001b[1;33m\u001b[0m\u001b[0m\n\u001b[1;32m----> 9\u001b[1;33m     \u001b[0mr\u001b[0m\u001b[1;33m=\u001b[0m\u001b[0mcv2\u001b[0m\u001b[1;33m.\u001b[0m\u001b[0mgetTrackbarPos\u001b[0m\u001b[1;33m(\u001b[0m\u001b[1;34m'R'\u001b[0m\u001b[1;33m,\u001b[0m\u001b[1;34m'colors'\u001b[0m\u001b[1;33m)\u001b[0m\u001b[1;33m\u001b[0m\u001b[1;33m\u001b[0m\u001b[0m\n\u001b[0m\u001b[0;32m     10\u001b[0m     \u001b[0mg\u001b[0m\u001b[1;33m=\u001b[0m\u001b[0mcv2\u001b[0m\u001b[1;33m.\u001b[0m\u001b[0mgetTrackbarPos\u001b[0m\u001b[1;33m(\u001b[0m\u001b[1;34m'G'\u001b[0m\u001b[1;33m,\u001b[0m\u001b[1;34m'colors'\u001b[0m\u001b[1;33m)\u001b[0m\u001b[1;33m\u001b[0m\u001b[1;33m\u001b[0m\u001b[0m\n\u001b[0;32m     11\u001b[0m     \u001b[0mb\u001b[0m\u001b[1;33m=\u001b[0m\u001b[0mcv2\u001b[0m\u001b[1;33m.\u001b[0m\u001b[0mgetTrackbarPos\u001b[0m\u001b[1;33m(\u001b[0m\u001b[1;34m'B'\u001b[0m\u001b[1;33m,\u001b[0m\u001b[1;34m'colors'\u001b[0m\u001b[1;33m)\u001b[0m\u001b[1;33m\u001b[0m\u001b[1;33m\u001b[0m\u001b[0m\n",
      "\u001b[1;31merror\u001b[0m: OpenCV(4.6.0) D:\\a\\opencv-python\\opencv-python\\opencv\\modules\\highgui\\src\\window_w32.cpp:2581: error: (-27:Null pointer) NULL window: 'colors' in function 'cvGetTrackbarPos'\n"
     ]
    }
   ],
   "source": [
    "\n",
    "def nothing(x):\n",
    "    print(x)\n",
    "cv2.namedWindow(\"colors\")\n",
    "cv2.createTrackbar('R','colors',0,255,lambda x:print(x))\n",
    "cv2.createTrackbar('G','colors',0,255,lambda x:print(x))\n",
    "cv2.createTrackbar('B','colors',0,255,lambda x:print(x))\n",
    "img=np.zeros((500,500,3),dtype=np.uint8)\n",
    "while True:\n",
    "    r=cv2.getTrackbarPos('R','colors')\n",
    "    g=cv2.getTrackbarPos('G','colors')\n",
    "    b=cv2.getTrackbarPos('B','colors')\n",
    "    img[:]=[b,g,r]\n",
    "    cv2.imshow(\"colors\",img)# BGR\n",
    "    k=cv2.waitKey(1000)\n",
    "    if k==ord('q'):\n",
    "        break\n",
    "cv2.destroyAllWindows()"
   ]
  },
  {
   "cell_type": "code",
   "execution_count": null,
   "metadata": {},
   "outputs": [],
   "source": []
  }
 ],
 "metadata": {
  "kernelspec": {
   "display_name": "Python 3.8.8",
   "language": "python",
   "name": "python3"
  },
  "language_info": {
   "codemirror_mode": {
    "name": "ipython",
    "version": 3
   },
   "file_extension": ".py",
   "mimetype": "text/x-python",
   "name": "python",
   "nbconvert_exporter": "python",
   "pygments_lexer": "ipython3",
   "version": "3.8.8"
  },
  "orig_nbformat": 4,
  "vscode": {
   "interpreter": {
    "hash": "8eecf875714f75d2115348ec88d10722cdfe7b154ab5df5822b4c072099e2097"
   }
  }
 },
 "nbformat": 4,
 "nbformat_minor": 2
}
