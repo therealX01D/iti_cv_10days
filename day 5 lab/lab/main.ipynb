{
 "cells": [
  {
   "cell_type": "code",
   "execution_count": 1,
   "metadata": {},
   "outputs": [],
   "source": [
    "import numpy as np\n",
    "import cv2\n",
    "from matplotlib import pyplot as plt"
   ]
  },
  {
   "cell_type": "markdown",
   "metadata": {},
   "source": [
    "#### Q1- Create image 256*256 Draw red square 50\\*50 in the center of blue circle with radius 80 the center of both square and circle is the same center of image"
   ]
  },
  {
   "cell_type": "code",
   "execution_count": 7,
   "metadata": {},
   "outputs": [
    {
     "data": {
      "text/plain": [
       "<matplotlib.image.AxesImage at 0x1b89be2de80>"
      ]
     },
     "execution_count": 7,
     "metadata": {},
     "output_type": "execute_result"
    },
    {
     "data": {
      "image/png": "[encoded data removed]",
      "text/plain": [
       "<Figure size 432x288 with 1 Axes>"
      ]
     },
     "metadata": {
      "needs_background": "light"
     },
     "output_type": "display_data"
    }
   ],
   "source": [
    "img=np.zeros((256,256,3),np.uint8)\n",
    "cv2.circle(img,(128,128),80,(255,0,0),-1)\n",
    "cv2.rectangle(img,(128-25,128-25),(128+25,128+25),(0,0,255),-1)\n",
    "img=cv2.cvtColor(img,cv2.COLOR_BGR2RGB)\n",
    "plt.imshow(img)"
   ]
  },
  {
   "cell_type": "markdown",
   "metadata": {},
   "source": [
    "#### Q2 make trackbar to control line position ,color and thickness in image 500*500 rgb"
   ]
  },
  {
   "cell_type": "code",
   "execution_count": 12,
   "metadata": {},
   "outputs": [],
   "source": [
    "def dummyfunc(x):\n",
    "    pass\n",
    "cv2.namedWindow(\"image\")\n",
    "img=np.zeros((500,500,3))\n",
    "cv2.createTrackbar('x0',\"image\",0,499,dummyfunc)\n",
    "cv2.createTrackbar('x1',\"image\",0,499,dummyfunc)\n",
    "cv2.createTrackbar('y0',\"image\",0,499,dummyfunc)\n",
    "cv2.createTrackbar('y1',\"image\",0,499,dummyfunc)\n",
    "cv2.createTrackbar('r',\"image\",0,255,dummyfunc)\n",
    "cv2.createTrackbar('g',\"image\",0,255,dummyfunc)\n",
    "cv2.createTrackbar('b',\"image\",0,255,dummyfunc)\n",
    "cv2.createTrackbar('thickness',\"image\",1,100,dummyfunc)\n",
    "while (True):\n",
    "    img=np.zeros((500,500,3))\n",
    "    x0=cv2.getTrackbarPos('x0','image')\n",
    "    x1=cv2.getTrackbarPos('x1','image')\n",
    "    y0=cv2.getTrackbarPos('y0','image')\n",
    "    y1=cv2.getTrackbarPos('y1','image')\n",
    "    thickness=cv2.getTrackbarPos('thickness','image')\n",
    "    r=cv2.getTrackbarPos('r','image')\n",
    "    g=cv2.getTrackbarPos('g','image')\n",
    "    b=cv2.getTrackbarPos('b','image')\n",
    "    cv2.line(img,(x0,y0),(x1,y1),(b,g,r),thickness)\n",
    "    cv2.imshow(\"output\",img)\n",
    "    key =cv2.waitKey(1)\n",
    "    if(key==ord('q')):\n",
    "        break\n",
    "cv2.destroyAllWindows()\n"
   ]
  },
  {
   "cell_type": "markdown",
   "metadata": {},
   "source": [
    "### Q3 make trackbar to control position,radius and color of circle in image 500*500 rgb."
   ]
  },
  {
   "cell_type": "code",
   "execution_count": 14,
   "metadata": {},
   "outputs": [],
   "source": [
    "def dummyfunc(x):\n",
    "    pass\n",
    "cv2.namedWindow(\"image\")\n",
    "img=np.zeros((500,500,3))\n",
    "cv2.createTrackbar('x0',\"image\",0,499,dummyfunc)\n",
    "cv2.createTrackbar('y0',\"image\",0,499,dummyfunc)\n",
    "cv2.createTrackbar('rad',\"image\",0,499,dummyfunc)\n",
    "cv2.createTrackbar('r',\"image\",0,255,dummyfunc)\n",
    "cv2.createTrackbar('g',\"image\",0,255,dummyfunc)\n",
    "cv2.createTrackbar('b',\"image\",0,255,dummyfunc)\n",
    "cv2.createTrackbar('thickness',\"image\",1,100,dummyfunc)\n",
    "while (True):\n",
    "    img=np.zeros((500,500,3))\n",
    "    x0=cv2.getTrackbarPos('x0','image')\n",
    "    y0=cv2.getTrackbarPos('y0','image')\n",
    "    rad=cv2.getTrackbarPos('rad','image')\n",
    "    thickness=cv2.getTrackbarPos('thickness','image')\n",
    "    r=cv2.getTrackbarPos('r','image')\n",
    "    g=cv2.getTrackbarPos('g','image')\n",
    "    b=cv2.getTrackbarPos('b','image')\n",
    "    cv2.circle(img,(x0,y0),rad,(b,g,r),thickness)\n",
    "    cv2.imshow(\"output\",img)\n",
    "    key =cv2.waitKey(1)\n",
    "    if(key==ord('q')):\n",
    "        break\n",
    "cv2.destroyAllWindows()"
   ]
  },
  {
   "cell_type": "markdown",
   "metadata": {},
   "source": [
    "#### Q4 create image 800*800 rgb write a word “Hello”with red color and draw yellow rectangle on border of word "
   ]
  },
  {
   "cell_type": "code",
   "execution_count": 15,
   "metadata": {},
   "outputs": [],
   "source": [
    "img=np.zeros((800,800,3))\n",
    "font2=cv2.FONT_HERSHEY_COMPLEX\n",
    "cv2.putText(img,\"Hello\",(200,200),font2,4,(0,0,255),14)\n",
    "cv2.rectangle(img,(200,200),(535,100),(0,255,255),3)\n",
    "cv2.imshow(\"imge\",img)\n",
    "key=cv2.waitKey()\n",
    "cv2.destroyAllWindows()"
   ]
  },
  {
   "cell_type": "markdown",
   "metadata": {},
   "source": [
    "#### Q5 create image 800*800 rgb with red circle in center of image with radius 100 and make small blue circle with radius of 6 that move within circumference of the big circle every 1 second 10 degree."
   ]
  },
  {
   "cell_type": "code",
   "execution_count": 18,
   "metadata": {},
   "outputs": [],
   "source": [
    "import math\n",
    "img= np.zeros((800,800,3))\n",
    "cv2.circle(img,(400,400),100,(0,0,255),3)\n",
    "cv2.circle(img,(400,400),6,(255,0,0),3)\n",
    "angle=0\n",
    "while(True):\n",
    "    img= np.zeros((800,800,3))\n",
    "    cv2.circle(img,(400,400),100,(0,0,255),3)\n",
    "    cv2.circle(img,(400,400),6,(255,0,0),3)\n",
    "    cv2.line(img,(400,400),(400+int(100*math.cos(math.radians(angle))),400+int(100*math.sin(math.radians(angle)))),(255,0,0),3)\n",
    "    cv2.imshow(\"image\",img)\n",
    "    angle+=10\n",
    "    key=cv2.waitKey(1000)\n",
    "    if key==ord('q'):\n",
    "        break\n",
    "cv2.destroyAllWindows()    "
   ]
  },
  {
   "cell_type": "code",
   "execution_count": null,
   "metadata": {},
   "outputs": [],
   "source": []
  }
 ],
 "metadata": {
  "kernelspec": {
   "display_name": "Python 3.8.8",
   "language": "python",
   "name": "python3"
  },
  "language_info": {
   "codemirror_mode": {
    "name": "ipython",
    "version": 3
   },
   "file_extension": ".py",
   "mimetype": "text/x-python",
   "name": "python",
   "nbconvert_exporter": "python",
   "pygments_lexer": "ipython3",
   "version": "3.8.8"
  },
  "orig_nbformat": 4,
  "vscode": {
   "interpreter": {
    "hash": "8eecf875714f75d2115348ec88d10722cdfe7b154ab5df5822b4c072099e2097"
   }
  }
 },
 "nbformat": 4,
 "nbformat_minor": 2
}
