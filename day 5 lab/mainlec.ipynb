{
 "cells": [
  {
   "cell_type": "code",
   "execution_count": 2,
   "metadata": {},
   "outputs": [],
   "source": [
    "import cv2 \n",
    "from matplotlib import pyplot as plt\n",
    "import numpy as np"
   ]
  },
  {
   "cell_type": "code",
   "execution_count": 3,
   "metadata": {},
   "outputs": [],
   "source": [
    "import math,datetime\n",
    "img=np.zeros((500,500,3),np.uint8)\n",
    "def nothing(x):\n",
    "    pass\n",
    "cv2.namedWindow(\"image\")\n",
    "cv2.createTrackbar('angle',\"image\",0,360,nothing)\n",
    "font=cv2.FONT_HERSHEY_SIMPLEX\n",
    "font2=cv2.FONT_HERSHEY_COMPLEX\n",
    "\n",
    "x0=299\n",
    "y0=299\n",
    "angle=0\n",
    "while(True):\n",
    "    img=np.zeros((500,500,3),np.uint8)\n",
    "    \n",
    "    angle=cv2.getTrackbarPos('angle',\"image\")\n",
    "    x0=int(50*math.cos(math.radians(angle+90)))\n",
    "    y0=int(50*math.sin(math.radians(angle+90)))\n",
    "    \n",
    "    cv2.circle(img,(249,249),50,(0,0,255),3)\n",
    "    cv2.putText(img,str(datetime.date.today()),(20,230),font2,2,(255,0,255),8)    \n",
    "    cv2.line(img,(249,249),(249+x0,249+y0),(0,0,255),3)\n",
    "    cv2.imshow(\"image\", img)\n",
    "    key=cv2.waitKey(1000)\n",
    "    if key==ord('q'):\n",
    "        break\n",
    "cv2.destroyAllWindows()"
   ]
  },
  {
   "cell_type": "code",
   "execution_count": 41,
   "metadata": {},
   "outputs": [
    {
     "ename": "SyntaxError",
     "evalue": "unexpected EOF while parsing (<ipython-input-41-5d87b502043a>, line 4)",
     "output_type": "error",
     "traceback": [
      "\u001b[1;36m  File \u001b[1;32m\"<ipython-input-41-5d87b502043a>\"\u001b[1;36m, line \u001b[1;32m4\u001b[0m\n\u001b[1;33m    cv2.createTrackbar('X0',\"image\",0,99,\u001b[0m\n\u001b[1;37m                                         ^\u001b[0m\n\u001b[1;31mSyntaxError\u001b[0m\u001b[1;31m:\u001b[0m unexpected EOF while parsing\n"
     ]
    }
   ],
   "source": [
    "def nothing(x):\n",
    "    pass\n",
    "cv2.namedWindow(\"image\")\n",
    "cv2.createTrackbar('X0',\"image\",0,99,"
   ]
  }
 ],
 "metadata": {
  "kernelspec": {
   "display_name": "Python 3.8.8",
   "language": "python",
   "name": "python3"
  },
  "language_info": {
   "codemirror_mode": {
    "name": "ipython",
    "version": 3
   },
   "file_extension": ".py",
   "mimetype": "text/x-python",
   "name": "python",
   "nbconvert_exporter": "python",
   "pygments_lexer": "ipython3",
   "version": "3.8.8"
  },
  "orig_nbformat": 4,
  "vscode": {
   "interpreter": {
    "hash": "8eecf875714f75d2115348ec88d10722cdfe7b154ab5df5822b4c072099e2097"
   }
  }
 },
 "nbformat": 4,
 "nbformat_minor": 2
}
