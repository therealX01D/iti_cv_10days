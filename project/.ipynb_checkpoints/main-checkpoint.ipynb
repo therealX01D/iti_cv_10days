{
 "cells": [
  {
   "cell_type": "markdown",
   "metadata": {},
   "source": [
    "#### project done by mahmoud mohamed omar"
   ]
  },
  {
   "cell_type": "code",
   "execution_count": 1,
   "metadata": {},
   "outputs": [],
   "source": [
    "import cv2 \n",
    "from matplotlib import pyplot as plt\n",
    "import numpy as np"
   ]
  },
  {
   "cell_type": "code",
   "execution_count": 40,
   "metadata": {},
   "outputs": [],
   "source": [
    "import math\n",
    "import datetime\n",
    "img=np.zeros((500,500,3),np.uint8)\n",
    "def nothing(x):\n",
    "    pass\n",
    "\n",
    "font=cv2.FONT_HERSHEY_COMPLEX\n",
    "secangle=0\n",
    "minangle=0\n",
    "hourangle=0\n",
    "secfreq=1\n",
    "minfreq=60\n",
    "font=cv2.FONT_HERSHEY_COMPLEX_SMALL\n",
    "font2=cv2.FONT_HERSHEY_COMPLEX_SMALL\n",
    "hourfreq=3600\n",
    "secradius=150\n",
    "minradius=75\n",
    "houradius=50\n",
    "fullwidth=150\n",
    "xcenter=300\n",
    "ycenter=300\n",
    "angle=0\n",
    "noseconds=60\n",
    "backimage=np.zeros((500,500,3),np.uint8)\n",
    "while (noseconds>0):\n",
    "    colorforsec=()\n",
    "    if(int(noseconds)%15==0):\n",
    "        colorforsec=(255,0,255)\n",
    "    elif(noseconds%5==0):\n",
    "        colorforsec=(255,255,255)\n",
    "    else:\n",
    "        colorforsec=(255,0,0)\n",
    "    \n",
    "    secx0=int(fullwidth*math.cos(math.radians(angle+90)))\n",
    "    secy0=int(fullwidth*math.sin(math.radians(angle+90)))\n",
    "    cv2.line(backimage,(xcenter,ycenter),(xcenter+secx0,ycenter+secy0),colorforsec,1)\n",
    "    \n",
    "    angle+=6\n",
    "    noseconds-=1\n",
    "cv2.circle(backimage,(xcenter,ycenter),int(0.9*fullwidth),(0,0,0),-1)\n",
    "dateti=datetime.datetime.now()\n",
    "offsetsec=6*int(dateti.strftime(\"%S\")*1)\n",
    "offsetmin=6*int(dateti.strftime(\"%M\")*1)+1/60*offsetsec\n",
    "offsethour=int(dateti.strftime(\"%H\")*1)+1/60*offsetmin\n",
    "while(True):\n",
    "    img=np.copy(backimage)    \n",
    "    #angle=cv2.getTrackbarPos('angle',\"image\")\n",
    "    secx0=int(secradius*math.cos(math.radians(secangle-90+offsetsec)))\n",
    "    secy0=int(secradius*math.sin(math.radians(secangle-90+offsetsec)))\n",
    "    minx0=int(minradius*math.cos(math.radians(minangle-90+offsetmin)))\n",
    "    miny0=int(minradius*math.sin(math.radians(minangle-90+offsetmin)))\n",
    "    hourx0=int(houradius*math.cos(math.radians(hourangle-90+offsethour)))\n",
    "    houry0=int(houradius*math.sin(math.radians(hourangle-90+offsethour)))\n",
    "    cv2.putText(img,f\"{datetime.datetime.now().day}-{datetime.datetime.now().month}-{datetime.datetime.now().year}\",(20,75),font2,2,(255,0,255),2)    \n",
    "    cv2.putText(img,f\"{datetime.datetime.now().hour}:{datetime.datetime.now().minute}:{datetime.datetime.now().second}\",(20,150),font2,2,(255,0,255),2)    \n",
    "    #cv2.circle(img,(xcenter,ycenter),secradius,(0,0,255),3)\n",
    "    cv2.line(img,(xcenter,ycenter),(xcenter+secx0,ycenter+secy0),(0,0,255),1)\n",
    "    cv2.line(img,(xcenter,ycenter),(xcenter+minx0,ycenter+miny0),(255,0,255),1)\n",
    "    cv2.line(img,(xcenter,ycenter),(xcenter+hourx0,ycenter+houry0),(0,255,255),1)\n",
    "    cv2.imshow(\"image\", img)\n",
    "    # cv2.line(img,(xcenter,ycenter),(xcenter+secx0,ycenter+secy0),(0,0,0),2)\n",
    "    # cv2.putText(img,f\"\",(20,75),font2,2,(255,0,255),2)    \n",
    "    # cv2.putText(img,f\"\",(20,150),font2,2,(255,0,255),2)   \n",
    "    secangle+=1/5\n",
    "    minangle+=(1/(5*60))\n",
    "    hourangle+=minangle*(1/(5*(60*60)))    \n",
    "    key=cv2.waitKey(int(1000/60))\n",
    "    if key==ord('q'):\n",
    "         break\n",
    "cv2.destroyAllWindows()"
   ]
  },
  {
   "cell_type": "code",
   "execution_count": null,
   "metadata": {},
   "outputs": [],
   "source": []
  }
 ],
 "metadata": {
  "kernelspec": {
   "display_name": "Python 3",
   "language": "python",
   "name": "python3"
  },
  "language_info": {
   "codemirror_mode": {
    "name": "ipython",
    "version": 3
   },
   "file_extension": ".py",
   "mimetype": "text/x-python",
   "name": "python",
   "nbconvert_exporter": "python",
   "pygments_lexer": "ipython3",
   "version": "3.8.8"
  },
  "vscode": {
   "interpreter": {
    "hash": "25a19fbe0a9132dfb9279d48d161753c6352f8f9478c2e74383d340069b907c3"
   }
  }
 },
 "nbformat": 4,
 "nbformat_minor": 2
}
