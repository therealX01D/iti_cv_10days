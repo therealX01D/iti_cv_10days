{
 "cells": [
  {
   "cell_type": "markdown",
   "metadata": {},
   "source": [
    "#### project done by mahmoud mohamed omar"
   ]
  },
  {
   "cell_type": "code",
   "execution_count": 2,
   "metadata": {},
   "outputs": [],
   "source": [
    "import cv2 \n",
    "from matplotlib import pyplot as plt\n",
    "import numpy as np"
   ]
  },
  {
   "cell_type": "code",
   "execution_count": 3,
   "metadata": {},
   "outputs": [],
   "source": [
    "import math\n",
    "import datetime\n",
    "img=np.zeros((500,500,3),np.uint8)\n",
    "def nothing(x):\n",
    "    pass\n",
    "\n",
    "font=cv2.FONT_HERSHEY_COMPLEX\n",
    "secangle=0\n",
    "minangle=0\n",
    "hourangle=0\n",
    "it=0\n",
    "font=cv2.FONT_HERSHEY_COMPLEX_SMALL\n",
    "font2=cv2.FONT_HERSHEY_COMPLEX_SMALL\n",
    "\n",
    "secradius=150\n",
    "minradius=75\n",
    "houradius=50\n",
    "fullwidth=150\n",
    "xcenter=300\n",
    "ycenter=325\n",
    "angle=0\n",
    "noseconds=60\n",
    "backimage=np.zeros((500,500,3),np.uint8)\n",
    "while (noseconds>0):\n",
    "    colorforsec=()\n",
    "    secx0=int(fullwidth*math.cos(math.radians(angle-90)))\n",
    "    secy0=int(fullwidth*math.sin(math.radians(angle-90)))\n",
    "    if(int(noseconds)%15==0):\n",
    "        colorforsec=(255,0,255)\n",
    "        #cv2.putText(backimage,f\"{12 if (60-noseconds)/5==0 else int((60-noseconds)/5)}\",(xcenter+secx0+5,ycenter+secy0+5)if int((60-noseconds)/5)<6 else (xcenter+secx0-5,ycenter+secy0-5),font2,1,(255,0,255),1)  \n",
    "    elif(noseconds%5==0):\n",
    "        colorforsec=(255,255,255)\n",
    "        #cv2.putText(backimage,f\"{int((60-noseconds)/5)}\",(xcenter+secx0+5,ycenter+secy0+5)if int((60-noseconds)/5)<3 else (xcenter+secx0-5,ycenter+secy0-5),font2,1,(255,0,255),1)  \n",
    "    else:\n",
    "        colorforsec=(255,0,0)\n",
    "    \n",
    "    \n",
    "    cv2.line(backimage,(xcenter,ycenter),(xcenter+secx0,ycenter+secy0),colorforsec,1)\n",
    "    \n",
    "    angle+=6\n",
    "    noseconds-=1\n",
    "cv2.circle(backimage,(xcenter,ycenter),int(0.9*fullwidth),(0,0,0),-1)\n",
    "angle=0\n",
    "noseconds=60\n",
    "while (noseconds>0):\n",
    "    colorforsec=()\n",
    "    secx0=int((fullwidth+10)*math.cos(math.radians(angle-90)))\n",
    "    secy0=int((fullwidth+10)*math.sin(math.radians(angle-90)))\n",
    "    if(noseconds%5==0):\n",
    "        cv2.putText(backimage,f\"{12 if (60-noseconds)/5==0 else int((60-noseconds)/5)}\",(xcenter-5+secx0+5,ycenter+secy0+5)if int((60-noseconds)/5)<6 else (xcenter-5+secx0-5,ycenter+secy0-5),font2,1,(255,0,255),1)  \n",
    "   \n",
    "    angle+=6\n",
    "    noseconds-=1\n",
    "dateti=datetime.datetime.now()\n",
    "offsetsec=6*int(dateti.strftime(\"%S\"))+((1/1000000))*(dateti.microsecond)\n",
    "offsetmin=6*int(dateti.strftime(\"%M\"))+1/60*offsetsec\n",
    "offsethour=int(dateti.strftime(\"%H\"))+1/60*offsetmin\n",
    "diffsec=0\n",
    "microsec=0\n",
    "while(True):\n",
    "    img=np.copy(backimage)    \n",
    "    #angle=cv2.getTrackbarPos('angle',\"image\")\n",
    "    dateti=datetime.datetime.now()\n",
    "    secx0=int(secradius*math.cos(math.radians(secangle-90)))\n",
    "    secy0=int(secradius*math.sin(math.radians(secangle-90)))\n",
    "    minx0=int(minradius*math.cos(math.radians(minangle-90)))\n",
    "    miny0=int(minradius*math.sin(math.radians(minangle-90)))\n",
    "    hourx0=int(houradius*math.cos(math.radians(hourangle-90)))\n",
    "    houry0=int(houradius*math.sin(math.radians(hourangle-90)))\n",
    "    hournow=int(dateti.strftime(\"%H\"))\n",
    "    minnow=int(dateti.strftime(\"%M\"))\n",
    "    secnow=int(dateti.strftime(\"%S\"))\n",
    "    microsec=datetime.datetime.now().microsecond\n",
    "    cv2.putText(img,f\"{datetime.datetime.now().day}-{datetime.datetime.now().month}-{datetime.datetime.now().year}\",(20,75),font2,2,(255,0,255),2)    \n",
    "    cv2.putText(img,f\"{hournow}:{minnow}:{secnow}\",(20,150),font2,2,(255,0,255),2)    \n",
    "    #cv2.circle(img,(xcenter,ycenter),secradius,(0,0,255),3)\n",
    "    cv2.line(img,(xcenter,ycenter),(xcenter+secx0,ycenter+secy0),(0,0,255),1)\n",
    "    cv2.line(img,(xcenter,ycenter),(xcenter+minx0,ycenter+miny0),(255,0,255),1)\n",
    "    cv2.line(img,(xcenter,ycenter),(xcenter+hourx0,ycenter+houry0),(0,255,255),1)\n",
    "    cv2.imshow(\"image\", img)\n",
    "    # cv2.line(img,(xcenter,ycenter),(xcenter+secx0,ycenter+secy0),(0,0,0),2)\n",
    "    # cv2.putText(img,f\"\",(20,75),font2,2,(255,0,255),2)    \n",
    "    # cv2.putText(img,f\"\",(20,150),font2,2,(255,0,255),2)\n",
    "    \n",
    "    secangle=6*(secnow+((1/1000000))*(microsec))\n",
    "    minangle=6*(minnow+(1/360)*secangle)\n",
    "    hourangle=30*(hournow+(1/(360*60))*secangle) \n",
    "    # offsetsec=6*int(dateti.strftime(\"%S\"))+1/1000000*int(dateti.microsecond)\n",
    "    # offsetmin=6*int(dateti.strftime(\"%M\"))+1/60*offsetsec\n",
    "    # offsethour=int(dateti.strftime(\"%H\"))+1/60*offsetmin\n",
    "    it+=1\n",
    "    key=cv2.waitKey(1)\n",
    "    if key==ord('q'):\n",
    "         break\n",
    "cv2.destroyAllWindows()"
   ]
  },
  {
   "cell_type": "code",
   "execution_count": null,
   "metadata": {},
   "outputs": [],
   "source": []
  },
  {
   "cell_type": "code",
   "execution_count": null,
   "metadata": {},
   "outputs": [],
   "source": []
  }
 ],
 "metadata": {
  "kernelspec": {
   "display_name": "Python 3.8.8 ('base')",
   "language": "python",
   "name": "python3"
  },
  "language_info": {
   "codemirror_mode": {
    "name": "ipython",
    "version": 3
   },
   "file_extension": ".py",
   "mimetype": "text/x-python",
   "name": "python",
   "nbconvert_exporter": "python",
   "pygments_lexer": "ipython3",
   "version": "3.8.8"
  },
  "vscode": {
   "interpreter": {
    "hash": "8eecf875714f75d2115348ec88d10722cdfe7b154ab5df5822b4c072099e2097"
   }
  }
 },
 "nbformat": 4,
 "nbformat_minor": 2
}
