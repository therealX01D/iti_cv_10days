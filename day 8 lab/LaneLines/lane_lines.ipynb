{
 "cells": [
  {
   "cell_type": "markdown",
   "metadata": {},
   "source": [
    "# Lane-lines detection"
   ]
  },
  {
   "cell_type": "markdown",
   "metadata": {},
   "source": [
    "## Intro"
   ]
  },
  {
   "cell_type": "markdown",
   "metadata": {},
   "source": [
    "### Goal"
   ]
  },
  {
   "cell_type": "markdown",
   "metadata": {},
   "source": [
    "- By the end of the day you will write an algorithm to delect and draw lanelines.\n"
   ]
  },
  {
   "cell_type": "markdown",
   "metadata": {},
   "source": [
    "### Milestones"
   ]
  },
  {
   "cell_type": "markdown",
   "metadata": {},
   "source": [
    "1. Write the algorithm and tune the params.\n",
    "2. Test it on different images.\n",
    "3. Load and process video frame by frame."
   ]
  },
  {
   "cell_type": "markdown",
   "metadata": {},
   "source": [
    "### Algorithm Defenition"
   ]
  },
  {
   "cell_type": "markdown",
   "metadata": {},
   "source": [
    "What do you think the steps are ?"
   ]
  },
  {
   "cell_type": "markdown",
   "metadata": {},
   "source": [
    "### Algorithm Steps"
   ]
  },
  {
   "cell_type": "markdown",
   "metadata": {},
   "source": [
    "1. Load an image.\n",
    "2. Extract lane lines.\n",
    "    - Threshold image.\n",
    "    - Detect edges(Canny edge detection).\n",
    "    - Extract lines(Hough lines).\n",
    "    - Find lines equations.\n",
    "3. Draw lanelines."
   ]
  },
  {
   "cell_type": "markdown",
   "metadata": {},
   "source": [
    "### Input/Output"
   ]
  },
  {
   "cell_type": "markdown",
   "metadata": {},
   "source": [
    "Input:\n",
    "- Image.\n",
    "- Video (Frames).\n",
    "\n",
    "Output:\n",
    "- Annotated image with lines."
   ]
  },
  {
   "cell_type": "code",
   "execution_count": null,
   "metadata": {},
   "outputs": [],
   "source": [
    "from IPython.display import HTML"
   ]
  },
  {
   "cell_type": "code",
   "execution_count": null,
   "metadata": {},
   "outputs": [],
   "source": [
    "input_clip_name = \"test_videos/solidWhiteRight.mp4\"\n",
    "\n",
    "HTML(f\"\"\"\n",
    "<video width=\"960\" height=\"540\" controls>\n",
    "  <source src=\"{input_clip_name}\">\n",
    "</video>\n",
    "\"\"\")"
   ]
  },
  {
   "cell_type": "code",
   "execution_count": null,
   "metadata": {},
   "outputs": [],
   "source": [
    "output_clip_name = \"test_videos_output/solidWhiteRight_good.mp4\"\n",
    "\n",
    "HTML(f\"\"\"\n",
    "<video width=\"960\" height=\"540\" controls>\n",
    "  <source src=\"{output_clip_name}\">\n",
    "</video>\n",
    "\"\"\")"
   ]
  },
  {
   "cell_type": "markdown",
   "metadata": {},
   "source": [
    "## Process ..."
   ]
  },
  {
   "cell_type": "code",
   "execution_count": null,
   "metadata": {},
   "outputs": [
    {
     "ename": "",
     "evalue": "",
     "output_type": "error",
     "traceback": [
      "\u001b[1;31mFailed to start the Kernel. \n",
      "\u001b[1;31mKernel Python 3.9.6 64-bit is not usable. Check the Jupyter output tab for more information. \n",
      "\u001b[1;31mView Jupyter <a href='command:jupyter.viewOutput'>log</a> for further details."
     ]
    }
   ],
   "source": [
    "import cv2\n",
    "import numpy as np\n",
    "import matplotlib.pyplot as plt"
   ]
  },
  {
   "cell_type": "markdown",
   "metadata": {},
   "source": [
    "### Load image"
   ]
  },
  {
   "cell_type": "code",
   "execution_count": null,
   "metadata": {},
   "outputs": [],
   "source": [
    "img = cv2.imread('test_images/solidYellowLeft.jpg')\n",
    "print('Shape: ', img.shape)\n",
    "plt.imshow(img[:,:,::-1]);"
   ]
  },
  {
   "cell_type": "markdown",
   "metadata": {},
   "source": [
    "### Convert to grey"
   ]
  },
  {
   "cell_type": "code",
   "execution_count": null,
   "metadata": {},
   "outputs": [],
   "source": [
    "def toGray(img):\n",
    "  return cv2.cvtColor(img, cv2.COLOR_BGR2GRAY)\n",
    "\n",
    "gray = toGray(img)\n",
    "plt.imshow(gray, cmap='gray');"
   ]
  },
  {
   "cell_type": "markdown",
   "metadata": {},
   "source": [
    "### Detect edges"
   ]
  },
  {
   "cell_type": "markdown",
   "metadata": {},
   "source": [
    "#### What is canny edge detection?"
   ]
  },
  {
   "cell_type": "markdown",
   "metadata": {},
   "source": [
    "- A method used to detect edges in an image while suppressing noise.\n",
    "- Steps:\n",
    "  - Grayscale Conversion\n",
    "  - Gaussian Blur\n",
    "  - Determine the Intensity Gradients\n",
    "  - Non Maximum Suppression\n",
    "  - Double Thresholding\n",
    "  - Edge Tracking by Hysteresis\n",
    "  - Cleaning Up"
   ]
  },
  {
   "cell_type": "markdown",
   "metadata": {},
   "source": [
    "#### Resources:"
   ]
  },
  {
   "cell_type": "markdown",
   "metadata": {},
   "source": [
    "- https://www.justin-liang.com/tutorials/canny/\n",
    "- https://homepages.inf.ed.ac.uk/rbf/HIPR2/canny.htm\n",
    "- https://docs.opencv.org/4.x/da/d22/tutorial_py_canny.html\n",
    "- https://docs.opencv.org/4.x/dd/d1a/group__imgproc__feature.html#ga2a671611e104c093843d7b7fc46d24af"
   ]
  },
  {
   "cell_type": "code",
   "execution_count": null,
   "metadata": {},
   "outputs": [],
   "source": [
    "low_th = 40\n",
    "high_th = 100\n",
    "def canny(img):\n",
    "  blur = cv2.GaussianBlur(img, (7,7), 0)\n",
    "  return cv2.Canny(blur, low_th, high_th)\n",
    "\n",
    "edges = canny(gray)\n",
    "plt.imshow(edges, cmap='gray');"
   ]
  },
  {
   "cell_type": "markdown",
   "metadata": {},
   "source": [
    "### ROI"
   ]
  },
  {
   "cell_type": "markdown",
   "metadata": {},
   "source": [
    "Remove unwanted region to focus on the region we are interested in."
   ]
  },
  {
   "cell_type": "code",
   "execution_count": null,
   "metadata": {},
   "outputs": [],
   "source": [
    "def maskROI(img):\n",
    "  mask = np.zeros_like(img)\n",
    "  if len(img.shape) > 2:\n",
    "    channel_count = img.shape[2]\n",
    "    ignore_mask_color = (255,) * channel_count\n",
    "  else:\n",
    "    ignore_mask_color = 255\n",
    "  imshape = img.shape        \n",
    "  vertices = np.array([\n",
    "    [\n",
    "      ((1/6*imshape[1]), imshape[0]),\n",
    "      ((5/12*imshape[1]), (3/5*imshape[0])),\n",
    "      ((7/12*imshape[1]), (3/5*imshape[0])),\n",
    "      ((9/10*imshape[1]), imshape[0])\n",
    "    ]], dtype=np.int32)\n",
    "  cv2.fillPoly(mask, vertices, ignore_mask_color)\n",
    "  masked_edges = cv2.bitwise_and(img, mask)\n",
    "  return(masked_edges)\n",
    "\n",
    "masked = maskROI(edges)\n",
    "plt.imshow(masked, cmap='gray');"
   ]
  },
  {
   "cell_type": "code",
   "execution_count": null,
   "metadata": {},
   "outputs": [],
   "source": [
    "test = np.ones((500, 1000))*100\n",
    "test[-1, 500] = 255\n",
    "plt.imshow(maskROI(test), cmap='gray');"
   ]
  },
  {
   "cell_type": "markdown",
   "metadata": {},
   "source": [
    "### Hough Lines"
   ]
  },
  {
   "cell_type": "markdown",
   "metadata": {},
   "source": [
    "An alg. to detect lines in an binary image."
   ]
  },
  {
   "cell_type": "code",
   "execution_count": null,
   "metadata": {},
   "outputs": [],
   "source": [
    "\n",
    "\n",
    "def hough_lines(img):\n",
    "  RHO = 1                 # try: 1 - 4 (0.5 increments)  \n",
    "  THETA = np.pi/180       # Usually this is Ok\n",
    "  MIN_VOTES = 10          # try: 10 - 50                  # Typical: 30\n",
    "  MIN_LINE_LEN = 5 \n",
    "  MAX_LINE_GAP = 50 \n",
    "  lines = cv2.HoughLinesP(img, RHO, THETA, MIN_VOTES, np.array([]), minLineLength=MIN_LINE_LEN, maxLineGap=MAX_LINE_GAP)\n",
    "  return lines\n",
    "  \n",
    "lines = hough_lines(masked)\n",
    "print (lines.shape)\n",
    "print(lines)"
   ]
  },
  {
   "cell_type": "code",
   "execution_count": null,
   "metadata": {},
   "outputs": [],
   "source": [
    "def draw_lines(lines, masked_edges):\n",
    "  color = [243, 105, 14]\n",
    "  thickness = 12\n",
    "  lines_image = np.zeros((masked_edges.shape[0], masked_edges.shape[1], 3), dtype=np.uint8)\n",
    "  for line in lines:\n",
    "    for x1,y1,x2,y2 in line:\n",
    "      cv2.line(lines_image, (x1, y1), (x2, y2), color, thickness)\n",
    "  return(lines_image)\n",
    "\n",
    "lined_img = draw_lines(lines, masked)\n",
    "plt.imshow(lined_img);"
   ]
  },
  {
   "cell_type": "markdown",
   "metadata": {},
   "source": [
    "### Formulate and Draw Lanes"
   ]
  },
  {
   "cell_type": "code",
   "execution_count": null,
   "metadata": {},
   "outputs": [],
   "source": [
    "from helpers import helpers_formulate_lanes as formulate_lanes\n",
    "lanes = formulate_lanes(lines, masked)\n",
    "print(lanes)\n",
    "lanes_img = draw_lines(lanes, img)\n",
    "plt.imshow(lanes_img);"
   ]
  },
  {
   "cell_type": "code",
   "execution_count": null,
   "metadata": {},
   "outputs": [],
   "source": [
    "final_image = cv2.addWeighted(img[:,:,::-1], 0.9, lanes_img, 1, 0)"
   ]
  },
  {
   "cell_type": "code",
   "execution_count": null,
   "metadata": {},
   "outputs": [],
   "source": [
    "plt.imshow(final_image);"
   ]
  },
  {
   "cell_type": "code",
   "execution_count": null,
   "metadata": {},
   "outputs": [],
   "source": []
  }
 ],
 "metadata": {
  "kernelspec": {
   "display_name": "Python 3.8.8",
   "language": "python",
   "name": "python3"
  },
  "language_info": {
   "codemirror_mode": {
    "name": "ipython",
    "version": 3
   },
   "file_extension": ".py",
   "mimetype": "text/x-python",
   "name": "python",
   "nbconvert_exporter": "python",
   "pygments_lexer": "ipython3",
   "version": "3.8.8"
  },
  "orig_nbformat": 4,
  "vscode": {
   "interpreter": {
    "hash": "8eecf875714f75d2115348ec88d10722cdfe7b154ab5df5822b4c072099e2097"
   }
  }
 },
 "nbformat": 4,
 "nbformat_minor": 2
}
