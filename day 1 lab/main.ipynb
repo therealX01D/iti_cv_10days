{
 "cells": [
  {
   "cell_type": "markdown",
   "metadata": {},
   "source": [
    "# Name : Mahmoud Mohamed Omar Ibrahim\n",
    "# Email : Mahmoudelkhashab26@gmail.com"
   ]
  },
  {
   "cell_type": "markdown",
   "metadata": {},
   "source": [
    "### Q1 -Write a program to display the last digit of a number"
   ]
  },
  {
   "cell_type": "code",
   "execution_count": 5,
   "metadata": {},
   "outputs": [
    {
     "name": "stdout",
     "output_type": "stream",
     "text": [
      "the last digit for given integer is  4\n",
      "the last digit for given integer is  2\n",
      "the last digit for given integer is  4\n",
      "the last digit for given integer is  2\n",
      "the last digit for given integer is  2\n",
      "please input an integer\n"
     ]
    }
   ],
   "source": [
    "n=\"\"\n",
    "while(n!='q'):\n",
    "    n=input(\"please enter a number\")\n",
    "    try:\n",
    "        val = int(n)\n",
    "        print(\"the last digit for given integer is \",val%10)\n",
    "    except ValueError:\n",
    "        print(\"please input an integer\")\n"
   ]
  },
  {
   "cell_type": "markdown",
   "metadata": {},
   "source": [
    "### Q2- Write a program to check whether the last digit of a number( entered by user ) is\n",
    "### divisible by 3 or not"
   ]
  },
  {
   "cell_type": "code",
   "execution_count": 6,
   "metadata": {},
   "outputs": [
    {
     "name": "stdout",
     "output_type": "stream",
     "text": [
      "the last digit is divisible by 3\n",
      "the last digit isn't divisible by 3\n",
      "the last digit is divisible by 3\n",
      "please input an integer\n"
     ]
    }
   ],
   "source": [
    "n=\"\"\n",
    "while(n!='q'):\n",
    "    n=input(\"please enter a number\")\n",
    "    try:\n",
    "        val = int(n)\n",
    "        print(\"the last digit is divisible by 3\"if ((val%10)%3==0) else \"the last digit isn't divisible by 3\")\n",
    "    except ValueError:\n",
    "        print(\"please input an integer\")\n"
   ]
  },
  {
   "cell_type": "markdown",
   "metadata": {},
   "source": [
    "### Q3- Write a program to accept a number from 1 to 7 and display the name of the day like 1 for Sunday\n",
    "### , 2 for Monday and so on.\n"
   ]
  },
  {
   "cell_type": "code",
   "execution_count": 7,
   "metadata": {},
   "outputs": [
    {
     "name": "stdout",
     "output_type": "stream",
     "text": [
      "please enter a number between 1 and 7\n",
      "the day is  Sunday\n",
      "the day is  Monday\n",
      "the day is  Tuesday\n",
      "please input an integer\n",
      "the day is  Wednesday\n",
      "the day is  Thursday\n",
      "the day is  Friday\n",
      "the day is  Saturday\n",
      "please enter a number between 1 and 7\n",
      "please input an integer\n"
     ]
    }
   ],
   "source": [
    "days=[\"Sunday\",\"Monday\",\"Tuesday\",\"Wednesday\",\"Thursday\",\"Friday\",\"Saturday\"]\n",
    "n=\"\"\n",
    "while(n!='q'):\n",
    "    n=input(\"please enter a number\")\n",
    "    try:\n",
    "        val = int(n)\n",
    "        if val in range(1,8):\n",
    "            print(\"the day is \",days[val-1])\n",
    "        else:\n",
    "            print(\"please enter a number between 1 and 7\")\n",
    "\n",
    "    except ValueError:\n",
    "        print(\"please input an integer\")"
   ]
  },
  {
   "cell_type": "markdown",
   "metadata": {},
   "source": [
    "### Q4- Write a program to check a character is vowel or not."
   ]
  },
  {
   "cell_type": "code",
   "execution_count": 11,
   "metadata": {},
   "outputs": [
    {
     "name": "stdout",
     "output_type": "stream",
     "text": [
      "please enter only one character\n",
      "character jisnot vowel\n",
      "character uisvowel\n",
      "character iisvowel\n",
      "character eisvowel\n",
      "character Eisvowel\n",
      "character Oisvowel\n",
      "character oisvowel\n",
      "character uisvowel\n",
      "character qisnot vowel\n"
     ]
    }
   ],
   "source": [
    "n=\"\"\n",
    "vl=['a','A','I','i','E','e','o','O','u','U']\n",
    "while(n!='q'):\n",
    "    n=input(\"please enter a character\")\n",
    "    try:\n",
    "        if(len(n)>1) : print(\"please enter only one character\") \n",
    "        else:\n",
    "            if(ord(n) in range(65, 91) or ord(n) in range(97, 122)):\n",
    "                print(\"character \"+n+\" is \"+(\" vowel\" if n in vl else \" not vowel\"))\n",
    "            else:\n",
    "                print(\"please enter a character\")\n",
    "    except ValueError:\n",
    "        print(\"please input a character\")"
   ]
  },
  {
   "cell_type": "markdown",
   "metadata": {},
   "source": [
    "### Q5- Accept the marked price from the user and calculate the Net amount as(Marked Price –\n",
    "### Discount) to pay according to following criteria\n"
   ]
  },
  {
   "cell_type": "code",
   "execution_count": 13,
   "metadata": {},
   "outputs": [
    {
     "name": "stdout",
     "output_type": "stream",
     "text": [
      "the net amount 8500.0\n",
      "the net amount 16000.0\n",
      "the net amount 6300.0\n",
      "please enter a price\n"
     ]
    }
   ],
   "source": [
    "n=\"\"\n",
    "while(n!='q'):\n",
    "    n=input(\"please enter a price\")\n",
    "    try:\n",
    "        val = float(n)\n",
    "        if(val>10000):\n",
    "            val*=0.80\n",
    "        elif(val in range(7001,10001)):\n",
    "            val*=0.85\n",
    "        else:\n",
    "            val*=0.90\n",
    "        print(\"the net amount\",val)\n",
    "    except ValueError:\n",
    "        print(\"please enter a price\")"
   ]
  },
  {
   "cell_type": "markdown",
   "metadata": {},
   "source": [
    "### Q6- Use a loop to display elements from a given list that are present at odd index positions"
   ]
  },
  {
   "cell_type": "code",
   "execution_count": 15,
   "metadata": {},
   "outputs": [
    {
     "name": "stdout",
     "output_type": "stream",
     "text": [
      "20\n",
      "40\n",
      "60\n",
      "80\n",
      "100\n",
      "[20, 40, 60, 80, 100]\n"
     ]
    }
   ],
   "source": [
    "lst = [10, 20, 30, 40, 50, 60, 70, 80, 90, 100]\n",
    "for i in range(len(lst)):\n",
    "    if(i%2==1):\n",
    "        print(lst[i])\n",
    "print([lst[i] for i in range(len(lst))if i%2==1])"
   ]
  },
  {
   "cell_type": "markdown",
   "metadata": {},
   "source": [
    "### Q7- Write program to print the following pattern using loop."
   ]
  },
  {
   "cell_type": "code",
   "execution_count": 21,
   "metadata": {},
   "outputs": [
    {
     "name": "stdout",
     "output_type": "stream",
     "text": [
      "\n",
      "1\n",
      "12\n",
      "123\n",
      "1234\n"
     ]
    }
   ],
   "source": [
    "n=4\n",
    "for i in range(n+1) :\n",
    "    for j in range(i) :\n",
    "        print(j+1,end=\"\")\n",
    "    print()\n"
   ]
  },
  {
   "cell_type": "markdown",
   "metadata": {},
   "source": [
    "### Q8 - Write a program that keep on accepting number from the user until user enters Zero. Display the\n",
    "### sum and average of all the numbers"
   ]
  },
  {
   "cell_type": "code",
   "execution_count": 7,
   "metadata": {},
   "outputs": [
    {
     "name": "stdout",
     "output_type": "stream",
     "text": [
      "average of your entered numbers is  5.0\n"
     ]
    }
   ],
   "source": [
    "n=\"\"\n",
    "sumn=0\n",
    "itn=0\n",
    "val=1\n",
    "while(val!=0):\n",
    "    n=input(\"please enter a number\")\n",
    "    try:\n",
    "        val = int(n)\n",
    "        sumn += val\n",
    "        itn += 1\n",
    "    except ValueError:\n",
    "        print(\"please input an integer\")\n",
    "print(\"average of your entered numbers is \",sumn/(itn-1))\n"
   ]
  },
  {
   "cell_type": "markdown",
   "metadata": {},
   "source": [
    "### Q9- Generate a Python list of all the even numbers between 4 to 30"
   ]
  },
  {
   "cell_type": "code",
   "execution_count": 8,
   "metadata": {},
   "outputs": [
    {
     "name": "stdout",
     "output_type": "stream",
     "text": [
      "[4, 6, 8, 10, 12, 14, 16, 18, 20, 22, 24, 26, 28]\n"
     ]
    }
   ],
   "source": [
    "print([i for i in range(4,30) if i%2==0])"
   ]
  },
  {
   "cell_type": "markdown",
   "metadata": {},
   "source": [
    "### Q10- Make Method to Return the Maximum and Minimum item from the given list.\n",
    "### lst=[100,30,22,40,60,20,10,300]"
   ]
  },
  {
   "cell_type": "code",
   "execution_count": 9,
   "metadata": {},
   "outputs": [
    {
     "name": "stdout",
     "output_type": "stream",
     "text": [
      "300 10\n"
     ]
    }
   ],
   "source": [
    "def minandmax(li):\n",
    "    return {\"maxi\":max(li),\"mini\":min(li)}\n",
    "out=minandmax([100,30,22,40,60,20,10,300])\n",
    "print(out[\"maxi\"],out[\"mini\"])"
   ]
  },
  {
   "cell_type": "markdown",
   "metadata": {},
   "source": []
  },
  {
   "cell_type": "code",
   "execution_count": null,
   "metadata": {},
   "outputs": [],
   "source": []
  }
 ],
 "metadata": {
  "kernelspec": {
   "display_name": "Python 3.10.4 64-bit",
   "language": "python",
   "name": "python3"
  },
  "language_info": {
   "codemirror_mode": {
    "name": "ipython",
    "version": 3
   },
   "file_extension": ".py",
   "mimetype": "text/x-python",
   "name": "python",
   "nbconvert_exporter": "python",
   "pygments_lexer": "ipython3",
   "version": "3.10.4"
  },
  "orig_nbformat": 4,
  "vscode": {
   "interpreter": {
    "hash": "4ba10947d4943caf114b0b0bf83fd9f73372e3215e53e488ddab7d5a1f17815b"
   }
  }
 },
 "nbformat": 4,
 "nbformat_minor": 2
}
