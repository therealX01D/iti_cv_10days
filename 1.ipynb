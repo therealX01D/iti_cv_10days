{
 "cells": [
  {
   "cell_type": "markdown",
   "metadata": {},
   "source": [
    "hello world"
   ]
  },
  {
   "cell_type": "code",
   "execution_count": null,
   "metadata": {},
   "outputs": [],
   "source": [
    "import cv2\n",
    "import matplotlib"
   ]
  },
  {
   "cell_type": "code",
   "execution_count": null,
   "metadata": {},
   "outputs": [
    {
     "name": "stdout",
     "output_type": "stream",
     "text": [
      "hello world\n"
     ]
    }
   ],
   "source": [
    "print(\"hello world\")"
   ]
  },
  {
   "cell_type": "code",
   "execution_count": 16,
   "metadata": {},
   "outputs": [
    {
     "name": "stdout",
     "output_type": "stream",
     "text": [
      "even\n",
      "odd\n",
      "even\n",
      "odd\n",
      "odd\n",
      "you entered mahjkji\n"
     ]
    }
   ],
   "source": [
    "exit=False\n",
    "while(exit!=True):\n",
    "\n",
    "    n =input(\"enter a number\")\n",
    "    if not(n.isdigit()) and not(n[0]=='-'and n[1:].isdigit()):\n",
    "        if n=='q':\n",
    "            exit=True\n",
    "            continue\n",
    "        else:\n",
    "            print(\"you entered \"+n)\n",
    "    elif((n.isdigit()) or (n[0]=='-'and n[1:].isdigit())):\n",
    "        print(\"even\" if int(n)%2==0 else \"odd\")\n",
    "    \n"
   ]
  },
  {
   "cell_type": "code",
   "execution_count": null,
   "metadata": {},
   "outputs": [],
   "source": []
  },
  {
   "cell_type": "code",
   "execution_count": null,
   "metadata": {},
   "outputs": [],
   "source": []
  }
 ],
 "metadata": {
  "kernelspec": {
   "display_name": "Python 3.8.8",
   "language": "python",
   "name": "python3"
  },
  "language_info": {
   "codemirror_mode": {
    "name": "ipython",
    "version": 3
   },
   "file_extension": ".py",
   "mimetype": "text/x-python",
   "name": "python",
   "nbconvert_exporter": "python",
   "pygments_lexer": "ipython3",
   "version": "3.8.8"
  },
  "orig_nbformat": 4,
  "vscode": {
   "interpreter": {
    "hash": "8eecf875714f75d2115348ec88d10722cdfe7b154ab5df5822b4c072099e2097"
   }
  }
 },
 "nbformat": 4,
 "nbformat_minor": 2
}
